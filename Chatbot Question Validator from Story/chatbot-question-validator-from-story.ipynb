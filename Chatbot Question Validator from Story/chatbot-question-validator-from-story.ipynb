{
 "cells": [
  {
   "cell_type": "markdown",
   "id": "22efbfdb",
   "metadata": {
    "papermill": {
     "duration": 0.01994,
     "end_time": "2022-11-08T11:25:32.734017",
     "exception": false,
     "start_time": "2022-11-08T11:25:32.714077",
     "status": "completed"
    },
    "tags": []
   },
   "source": [
    "<div>\n",
    "<h1 style=\"background-color:#E9CAA6;padding:20px;border-radius:10px;border:3px solid #D59701;color:#1a6975;text-align:center\" >📊CHAT BOT ｜Exploratory analysis of chat-bot data</h1>\n",
    "</div>"
   ]
  },
  {
   "cell_type": "markdown",
   "id": "168d43ce",
   "metadata": {
    "papermill": {
     "duration": 0.017807,
     "end_time": "2022-11-08T11:25:32.770135",
     "exception": false,
     "start_time": "2022-11-08T11:25:32.752328",
     "status": "completed"
    },
    "tags": []
   },
   "source": [
    "# Table of Contents\n",
    "<a id=\"toc\"></a>\n",
    "- [1. Import and Reading](#1)\n",
    "    - [1.1 Import Libraries](#1.1)\n",
    "    - [1.2 Reading Data](#1.2)\n",
    "- [2. Exploratory analysis of  data](#2)\n",
    "    - [2.1 Basic information of data](#2.1)\n",
    "    - [2.2 Creating sentences from list](#2.2)\n",
    "    - [2.3 Splitting data into Story, Questions and Answers](#2.3)\n",
    "- [3. Data Preprocessing and Model Designing](#3)\n",
    "    - [3.1 Dividing a large quantity of text into smaller fragments](#3.1)\n",
    "    - [3.2 Sequential Model Design and Model training](#3.2)\n",
    "    - [3.3 Modle Testing](#3.3)"
   ]
  },
  {
   "cell_type": "markdown",
   "id": "686f18e0",
   "metadata": {
    "papermill": {
     "duration": 0.02235,
     "end_time": "2022-11-08T11:25:32.811166",
     "exception": false,
     "start_time": "2022-11-08T11:25:32.788816",
     "status": "completed"
    },
    "tags": []
   },
   "source": [
    "<a id=\"1\"></a>\n",
    "\n",
    "<div>\n",
    "<h1 style=\"background-color:#FFDDC3;padding:18px;border-radius:10px;border:3px solid #E77F2A;color:#053610;text-align:center\" >Import and Reading</h1>\n",
    "</div>\n"
   ]
  },
  {
   "cell_type": "markdown",
   "id": "6b9312f3",
   "metadata": {
    "papermill": {
     "duration": 0.018278,
     "end_time": "2022-11-08T11:25:32.848685",
     "exception": false,
     "start_time": "2022-11-08T11:25:32.830407",
     "status": "completed"
    },
    "tags": []
   },
   "source": [
    "<a id=\"1.1\"></a>\n",
    "## <span style=\"color:#E77F2A;\"> Import libraries </span>"
   ]
  },
  {
   "cell_type": "code",
   "execution_count": 1,
   "id": "395e8a8e",
   "metadata": {
    "execution": {
     "iopub.execute_input": "2022-11-08T11:25:32.886226Z",
     "iopub.status.busy": "2022-11-08T11:25:32.885572Z",
     "iopub.status.idle": "2022-11-08T11:25:39.547029Z",
     "shell.execute_reply": "2022-11-08T11:25:39.545673Z"
    },
    "papermill": {
     "duration": 6.684282,
     "end_time": "2022-11-08T11:25:39.550495",
     "exception": false,
     "start_time": "2022-11-08T11:25:32.866213",
     "status": "completed"
    },
    "tags": []
   },
   "outputs": [],
   "source": [
    "import pickle \n",
    "import numpy as np\n",
    "import keras \n",
    "import tensorflow\n",
    "from tensorflow.keras.preprocessing.sequence import pad_sequences\n",
    "from tensorflow.keras.preprocessing.text import Tokenizer\n",
    "from tensorflow.keras.models import Sequential,Model\n",
    "from tensorflow.keras.layers import Embedding\n",
    "from tensorflow.keras.layers import Input ,Activation , Dense,Permute,Dropout,add,dot,concatenate,LSTM\n",
    "\n",
    "import warnings\n",
    "warnings.filterwarnings('ignore')"
   ]
  },
  {
   "cell_type": "markdown",
   "id": "327113b8",
   "metadata": {
    "papermill": {
     "duration": 0.017839,
     "end_time": "2022-11-08T11:25:39.586843",
     "exception": false,
     "start_time": "2022-11-08T11:25:39.569004",
     "status": "completed"
    },
    "tags": []
   },
   "source": [
    "<a id=\"1.2\"></a>\n",
    "## <span style=\"color:#E77F2A;\"> Reading data </span>"
   ]
  },
  {
   "cell_type": "code",
   "execution_count": 2,
   "id": "523db0a6",
   "metadata": {
    "execution": {
     "iopub.execute_input": "2022-11-08T11:25:39.624742Z",
     "iopub.status.busy": "2022-11-08T11:25:39.623607Z",
     "iopub.status.idle": "2022-11-08T11:25:39.654280Z",
     "shell.execute_reply": "2022-11-08T11:25:39.653279Z"
    },
    "papermill": {
     "duration": 0.052464,
     "end_time": "2022-11-08T11:25:39.657131",
     "exception": false,
     "start_time": "2022-11-08T11:25:39.604667",
     "status": "completed"
    },
    "tags": []
   },
   "outputs": [],
   "source": [
    "with open(\"../input/dataset-for-chatbot/test_qa.txt\",\"rb\") as fp:\n",
    "    train_data=pickle.load(fp)\n",
    "with open(\"../input/dataset-for-chatbot/test_qa.txt\",\"rb\") as fp:\n",
    "    test_data=pickle.load(fp)"
   ]
  },
  {
   "cell_type": "markdown",
   "id": "2461067d",
   "metadata": {
    "papermill": {
     "duration": 0.016988,
     "end_time": "2022-11-08T11:25:39.691474",
     "exception": false,
     "start_time": "2022-11-08T11:25:39.674486",
     "status": "completed"
    },
    "tags": []
   },
   "source": [
    "<a id=\"2\"></a>\n",
    "\n",
    "<div>\n",
    "<h1 style=\"background-color:#FFDDC3;padding:18px;border-radius:10px;border:3px solid #E77F2A;color:#053610;text-align:center\" >Exploratory analysis of chat-bot data</h1>\n",
    "</div>"
   ]
  },
  {
   "cell_type": "markdown",
   "id": "b17948d9",
   "metadata": {
    "papermill": {
     "duration": 0.01678,
     "end_time": "2022-11-08T11:25:39.725381",
     "exception": false,
     "start_time": "2022-11-08T11:25:39.708601",
     "status": "completed"
    },
    "tags": []
   },
   "source": [
    "<a id=\"2.1\"></a>\n",
    "## <span style=\"color:#E77F2A;\">Basic information of the data</span>"
   ]
  },
  {
   "cell_type": "code",
   "execution_count": 3,
   "id": "7f2297a0",
   "metadata": {
    "execution": {
     "iopub.execute_input": "2022-11-08T11:25:39.763262Z",
     "iopub.status.busy": "2022-11-08T11:25:39.762702Z",
     "iopub.status.idle": "2022-11-08T11:25:39.776671Z",
     "shell.execute_reply": "2022-11-08T11:25:39.775477Z"
    },
    "papermill": {
     "duration": 0.036536,
     "end_time": "2022-11-08T11:25:39.779852",
     "exception": false,
     "start_time": "2022-11-08T11:25:39.743316",
     "status": "completed"
    },
    "tags": []
   },
   "outputs": [
    {
     "data": {
      "text/plain": [
       "[(['Mary',\n",
       "   'got',\n",
       "   'the',\n",
       "   'milk',\n",
       "   'there',\n",
       "   '.',\n",
       "   'John',\n",
       "   'moved',\n",
       "   'to',\n",
       "   'the',\n",
       "   'bedroom',\n",
       "   '.'],\n",
       "  ['Is', 'John', 'in', 'the', 'kitchen', '?'],\n",
       "  'no')]"
      ]
     },
     "metadata": {},
     "output_type": "display_data"
    }
   ],
   "source": [
    "display(train_data[:1]) "
   ]
  },
  {
   "cell_type": "code",
   "execution_count": 4,
   "id": "1d112642",
   "metadata": {
    "execution": {
     "iopub.execute_input": "2022-11-08T11:25:39.822505Z",
     "iopub.status.busy": "2022-11-08T11:25:39.822035Z",
     "iopub.status.idle": "2022-11-08T11:25:39.830531Z",
     "shell.execute_reply": "2022-11-08T11:25:39.829199Z"
    },
    "papermill": {
     "duration": 0.030162,
     "end_time": "2022-11-08T11:25:39.833061",
     "exception": false,
     "start_time": "2022-11-08T11:25:39.802899",
     "status": "completed"
    },
    "tags": []
   },
   "outputs": [
    {
     "data": {
      "text/plain": [
       "[(['Mary',\n",
       "   'got',\n",
       "   'the',\n",
       "   'milk',\n",
       "   'there',\n",
       "   '.',\n",
       "   'John',\n",
       "   'moved',\n",
       "   'to',\n",
       "   'the',\n",
       "   'bedroom',\n",
       "   '.'],\n",
       "  ['Is', 'John', 'in', 'the', 'kitchen', '?'],\n",
       "  'no')]"
      ]
     },
     "metadata": {},
     "output_type": "display_data"
    }
   ],
   "source": [
    "display(test_data[:1]) "
   ]
  },
  {
   "cell_type": "code",
   "execution_count": 5,
   "id": "8544666a",
   "metadata": {
    "execution": {
     "iopub.execute_input": "2022-11-08T11:25:39.871704Z",
     "iopub.status.busy": "2022-11-08T11:25:39.871222Z",
     "iopub.status.idle": "2022-11-08T11:25:39.877784Z",
     "shell.execute_reply": "2022-11-08T11:25:39.876447Z"
    },
    "papermill": {
     "duration": 0.030571,
     "end_time": "2022-11-08T11:25:39.881750",
     "exception": false,
     "start_time": "2022-11-08T11:25:39.851179",
     "status": "completed"
    },
    "tags": []
   },
   "outputs": [
    {
     "name": "stdout",
     "output_type": "stream",
     "text": [
      "Type of train data:  <class 'list'>\n",
      "length of training data:  1000\n"
     ]
    }
   ],
   "source": [
    "print(\"Type of train data: \",type(train_data))\n",
    "print(\"length of training data: \",len(train_data))"
   ]
  },
  {
   "cell_type": "markdown",
   "id": "7ec5dc45",
   "metadata": {
    "papermill": {
     "duration": 0.019535,
     "end_time": "2022-11-08T11:25:39.919946",
     "exception": false,
     "start_time": "2022-11-08T11:25:39.900411",
     "status": "completed"
    },
    "tags": []
   },
   "source": [
    "<div class=\"alert alert-block alert-info\" style=\"font-size:16px; font-family:verdana; line-height: 1.7em; background-color:#E9CAA6;padding:20px;border-radius:10px;border:3px solid #D59701;color:#1a6975\">\n",
    "    📌 &nbsp;<b>Observations in Data:</b>\n",
    " \n",
    "   * <i> There are total of lenght of train data is <u>1000</u> </i>\n",
    "\n",
    "   * <i> This dataset is availabe in list form </i>\n",
    "</div>"
   ]
  },
  {
   "cell_type": "markdown",
   "id": "2cd3e79d",
   "metadata": {
    "papermill": {
     "duration": 0.017063,
     "end_time": "2022-11-08T11:25:39.956537",
     "exception": false,
     "start_time": "2022-11-08T11:25:39.939474",
     "status": "completed"
    },
    "tags": []
   },
   "source": [
    "<a id=\"2.2\"></a>\n",
    "## <span style=\"color:#E77F2A;\"> Creating sentences from list </span>"
   ]
  },
  {
   "cell_type": "code",
   "execution_count": 6,
   "id": "5c1b7c0b",
   "metadata": {
    "execution": {
     "iopub.execute_input": "2022-11-08T11:25:39.993849Z",
     "iopub.status.busy": "2022-11-08T11:25:39.993269Z",
     "iopub.status.idle": "2022-11-08T11:25:40.002397Z",
     "shell.execute_reply": "2022-11-08T11:25:40.001182Z"
    },
    "papermill": {
     "duration": 0.030869,
     "end_time": "2022-11-08T11:25:40.004946",
     "exception": false,
     "start_time": "2022-11-08T11:25:39.974077",
     "status": "completed"
    },
    "tags": []
   },
   "outputs": [
    {
     "data": {
      "text/plain": [
       "'Mary got the milk there . John moved to the bedroom .'"
      ]
     },
     "execution_count": 6,
     "metadata": {},
     "output_type": "execute_result"
    }
   ],
   "source": [
    "' '.join(train_data[0][0])"
   ]
  },
  {
   "cell_type": "code",
   "execution_count": 7,
   "id": "531a9b96",
   "metadata": {
    "execution": {
     "iopub.execute_input": "2022-11-08T11:25:40.045753Z",
     "iopub.status.busy": "2022-11-08T11:25:40.045276Z",
     "iopub.status.idle": "2022-11-08T11:25:40.051934Z",
     "shell.execute_reply": "2022-11-08T11:25:40.051149Z"
    },
    "papermill": {
     "duration": 0.031202,
     "end_time": "2022-11-08T11:25:40.054482",
     "exception": false,
     "start_time": "2022-11-08T11:25:40.023280",
     "status": "completed"
    },
    "tags": []
   },
   "outputs": [
    {
     "data": {
      "text/plain": [
       "'Is John in the kitchen ?'"
      ]
     },
     "execution_count": 7,
     "metadata": {},
     "output_type": "execute_result"
    }
   ],
   "source": [
    "' '.join(train_data[0][1])"
   ]
  },
  {
   "cell_type": "code",
   "execution_count": 8,
   "id": "10c15356",
   "metadata": {
    "execution": {
     "iopub.execute_input": "2022-11-08T11:25:40.094906Z",
     "iopub.status.busy": "2022-11-08T11:25:40.093904Z",
     "iopub.status.idle": "2022-11-08T11:25:40.101592Z",
     "shell.execute_reply": "2022-11-08T11:25:40.100345Z"
    },
    "papermill": {
     "duration": 0.029466,
     "end_time": "2022-11-08T11:25:40.103930",
     "exception": false,
     "start_time": "2022-11-08T11:25:40.074464",
     "status": "completed"
    },
    "tags": []
   },
   "outputs": [
    {
     "data": {
      "text/plain": [
       "'no'"
      ]
     },
     "execution_count": 8,
     "metadata": {},
     "output_type": "execute_result"
    }
   ],
   "source": [
    "#checking the validity of sentences\n",
    "train_data[0][2]"
   ]
  },
  {
   "cell_type": "code",
   "execution_count": 9,
   "id": "ba462175",
   "metadata": {
    "execution": {
     "iopub.execute_input": "2022-11-08T11:25:40.142424Z",
     "iopub.status.busy": "2022-11-08T11:25:40.141935Z",
     "iopub.status.idle": "2022-11-08T11:25:40.146944Z",
     "shell.execute_reply": "2022-11-08T11:25:40.145743Z"
    },
    "papermill": {
     "duration": 0.027462,
     "end_time": "2022-11-08T11:25:40.149456",
     "exception": false,
     "start_time": "2022-11-08T11:25:40.121994",
     "status": "completed"
    },
    "tags": []
   },
   "outputs": [],
   "source": [
    "#set up vocabulary\n",
    "vocab=set()"
   ]
  },
  {
   "cell_type": "code",
   "execution_count": 10,
   "id": "cc60eb09",
   "metadata": {
    "execution": {
     "iopub.execute_input": "2022-11-08T11:25:40.187173Z",
     "iopub.status.busy": "2022-11-08T11:25:40.186692Z",
     "iopub.status.idle": "2022-11-08T11:25:40.192333Z",
     "shell.execute_reply": "2022-11-08T11:25:40.191105Z"
    },
    "papermill": {
     "duration": 0.027555,
     "end_time": "2022-11-08T11:25:40.194804",
     "exception": false,
     "start_time": "2022-11-08T11:25:40.167249",
     "status": "completed"
    },
    "tags": []
   },
   "outputs": [],
   "source": [
    "#add training data and testing data\n",
    "all_data=test_data + train_data"
   ]
  },
  {
   "cell_type": "code",
   "execution_count": 11,
   "id": "53deb1c2",
   "metadata": {
    "execution": {
     "iopub.execute_input": "2022-11-08T11:25:40.232901Z",
     "iopub.status.busy": "2022-11-08T11:25:40.232431Z",
     "iopub.status.idle": "2022-11-08T11:25:40.238605Z",
     "shell.execute_reply": "2022-11-08T11:25:40.237589Z"
    },
    "papermill": {
     "duration": 0.028644,
     "end_time": "2022-11-08T11:25:40.241500",
     "exception": false,
     "start_time": "2022-11-08T11:25:40.212856",
     "status": "completed"
    },
    "tags": []
   },
   "outputs": [
    {
     "name": "stdout",
     "output_type": "stream",
     "text": [
      "Type of All data:  <class 'list'>\n",
      "length of All data:  2000\n"
     ]
    }
   ],
   "source": [
    "print(\"Type of All data: \",type(all_data))\n",
    "print(\"length of All data: \",len(all_data))"
   ]
  },
  {
   "cell_type": "markdown",
   "id": "14d593fa",
   "metadata": {
    "papermill": {
     "duration": 0.019008,
     "end_time": "2022-11-08T11:25:40.281852",
     "exception": false,
     "start_time": "2022-11-08T11:25:40.262844",
     "status": "completed"
    },
    "tags": []
   },
   "source": [
    "<a id=\"2.3\"></a>\n",
    "## <span style=\"color:#E77F2A;\"> Splitting data into Story, Questions and Answers </span>"
   ]
  },
  {
   "cell_type": "code",
   "execution_count": 12,
   "id": "f0dd48f1",
   "metadata": {
    "execution": {
     "iopub.execute_input": "2022-11-08T11:25:40.321114Z",
     "iopub.status.busy": "2022-11-08T11:25:40.320636Z",
     "iopub.status.idle": "2022-11-08T11:25:40.337119Z",
     "shell.execute_reply": "2022-11-08T11:25:40.336005Z"
    },
    "papermill": {
     "duration": 0.039105,
     "end_time": "2022-11-08T11:25:40.339754",
     "exception": false,
     "start_time": "2022-11-08T11:25:40.300649",
     "status": "completed"
    },
    "tags": []
   },
   "outputs": [],
   "source": [
    "for story,question,answer in all_data:\n",
    "    vocab =vocab.union(set(story))\n",
    "    vocab =vocab.union(set(question))"
   ]
  },
  {
   "cell_type": "code",
   "execution_count": 13,
   "id": "4d4fc5f0",
   "metadata": {
    "execution": {
     "iopub.execute_input": "2022-11-08T11:25:40.378648Z",
     "iopub.status.busy": "2022-11-08T11:25:40.378145Z",
     "iopub.status.idle": "2022-11-08T11:25:40.383719Z",
     "shell.execute_reply": "2022-11-08T11:25:40.382132Z"
    },
    "papermill": {
     "duration": 0.028371,
     "end_time": "2022-11-08T11:25:40.386589",
     "exception": false,
     "start_time": "2022-11-08T11:25:40.358218",
     "status": "completed"
    },
    "tags": []
   },
   "outputs": [],
   "source": [
    "#add Answers in \"yes\" and \"no\"\n",
    "vocab.add('yes')\n",
    "vocab.add('no')"
   ]
  },
  {
   "cell_type": "code",
   "execution_count": 14,
   "id": "19dbb7b2",
   "metadata": {
    "execution": {
     "iopub.execute_input": "2022-11-08T11:25:40.425099Z",
     "iopub.status.busy": "2022-11-08T11:25:40.424614Z",
     "iopub.status.idle": "2022-11-08T11:25:40.432791Z",
     "shell.execute_reply": "2022-11-08T11:25:40.431930Z"
    },
    "papermill": {
     "duration": 0.030088,
     "end_time": "2022-11-08T11:25:40.434970",
     "exception": false,
     "start_time": "2022-11-08T11:25:40.404882",
     "status": "completed"
    },
    "tags": []
   },
   "outputs": [
    {
     "data": {
      "text/plain": [
       "{'.',\n",
       " '?',\n",
       " 'Daniel',\n",
       " 'Is',\n",
       " 'John',\n",
       " 'Mary',\n",
       " 'Sandra',\n",
       " 'apple',\n",
       " 'back',\n",
       " 'bathroom',\n",
       " 'bedroom',\n",
       " 'discarded',\n",
       " 'down',\n",
       " 'dropped',\n",
       " 'football',\n",
       " 'garden',\n",
       " 'got',\n",
       " 'grabbed',\n",
       " 'hallway',\n",
       " 'in',\n",
       " 'journeyed',\n",
       " 'kitchen',\n",
       " 'left',\n",
       " 'milk',\n",
       " 'moved',\n",
       " 'no',\n",
       " 'office',\n",
       " 'picked',\n",
       " 'put',\n",
       " 'the',\n",
       " 'there',\n",
       " 'to',\n",
       " 'took',\n",
       " 'travelled',\n",
       " 'up',\n",
       " 'went',\n",
       " 'yes'}"
      ]
     },
     "execution_count": 14,
     "metadata": {},
     "output_type": "execute_result"
    }
   ],
   "source": [
    "vocab"
   ]
  },
  {
   "cell_type": "code",
   "execution_count": 15,
   "id": "d8cefe43",
   "metadata": {
    "execution": {
     "iopub.execute_input": "2022-11-08T11:25:40.475038Z",
     "iopub.status.busy": "2022-11-08T11:25:40.474565Z",
     "iopub.status.idle": "2022-11-08T11:25:40.481916Z",
     "shell.execute_reply": "2022-11-08T11:25:40.480681Z"
    },
    "papermill": {
     "duration": 0.031014,
     "end_time": "2022-11-08T11:25:40.484767",
     "exception": false,
     "start_time": "2022-11-08T11:25:40.453753",
     "status": "completed"
    },
    "tags": []
   },
   "outputs": [
    {
     "data": {
      "text/plain": [
       "37"
      ]
     },
     "execution_count": 15,
     "metadata": {},
     "output_type": "execute_result"
    }
   ],
   "source": [
    "#lenght of vocab data\n",
    "len(vocab)"
   ]
  },
  {
   "cell_type": "code",
   "execution_count": 16,
   "id": "96f285f4",
   "metadata": {
    "execution": {
     "iopub.execute_input": "2022-11-08T11:25:40.528971Z",
     "iopub.status.busy": "2022-11-08T11:25:40.527997Z",
     "iopub.status.idle": "2022-11-08T11:25:40.537445Z",
     "shell.execute_reply": "2022-11-08T11:25:40.535659Z"
    },
    "papermill": {
     "duration": 0.035642,
     "end_time": "2022-11-08T11:25:40.540516",
     "exception": false,
     "start_time": "2022-11-08T11:25:40.504874",
     "status": "completed"
    },
    "tags": []
   },
   "outputs": [
    {
     "name": "stdout",
     "output_type": "stream",
     "text": [
      "Maximum length of story 86\n"
     ]
    }
   ],
   "source": [
    "# finding the maximum lengths\n",
    "vocab_len = len(vocab)+1\n",
    "max_story_len=max([len(data[0])for data  in all_data])\n",
    "print(\"Maximum length of story\",max_story_len)"
   ]
  },
  {
   "cell_type": "code",
   "execution_count": 17,
   "id": "c32ee667",
   "metadata": {
    "execution": {
     "iopub.execute_input": "2022-11-08T11:25:40.581221Z",
     "iopub.status.busy": "2022-11-08T11:25:40.580388Z",
     "iopub.status.idle": "2022-11-08T11:25:40.588033Z",
     "shell.execute_reply": "2022-11-08T11:25:40.586406Z"
    },
    "papermill": {
     "duration": 0.030947,
     "end_time": "2022-11-08T11:25:40.590636",
     "exception": false,
     "start_time": "2022-11-08T11:25:40.559689",
     "status": "completed"
    },
    "tags": []
   },
   "outputs": [
    {
     "name": "stdout",
     "output_type": "stream",
     "text": [
      "Maximum length of Question 6\n"
     ]
    }
   ],
   "source": [
    "max_ques_len=max([len(data[1])for data  in all_data])\n",
    "print(\"Maximum length of Question\",max_ques_len)"
   ]
  },
  {
   "cell_type": "markdown",
   "id": "86ce5cbf",
   "metadata": {
    "papermill": {
     "duration": 0.020936,
     "end_time": "2022-11-08T11:25:40.630141",
     "exception": false,
     "start_time": "2022-11-08T11:25:40.609205",
     "status": "completed"
    },
    "tags": []
   },
   "source": [
    "<a id=\"3\"></a>\n",
    "\n",
    "<div>\n",
    "<h1 style=\"background-color:#FFDDC3;padding:18px;border-radius:10px;border:3px solid #E77F2A;color:#053610;text-align:center\" > Data Preprocessing and Model Designing</h1>\n",
    "</div>"
   ]
  },
  {
   "cell_type": "markdown",
   "id": "37e98778",
   "metadata": {
    "papermill": {
     "duration": 0.017929,
     "end_time": "2022-11-08T11:25:40.667511",
     "exception": false,
     "start_time": "2022-11-08T11:25:40.649582",
     "status": "completed"
    },
    "tags": []
   },
   "source": [
    "<a id=\"3.1\"></a>\n",
    "## <span style=\"color:#E77F2A;\">Dividing a large quantity of text into smaller fragments</span>\n"
   ]
  },
  {
   "cell_type": "code",
   "execution_count": 18,
   "id": "564e69b6",
   "metadata": {
    "execution": {
     "iopub.execute_input": "2022-11-08T11:25:40.708578Z",
     "iopub.status.busy": "2022-11-08T11:25:40.708050Z",
     "iopub.status.idle": "2022-11-08T11:25:40.713969Z",
     "shell.execute_reply": "2022-11-08T11:25:40.712692Z"
    },
    "papermill": {
     "duration": 0.02992,
     "end_time": "2022-11-08T11:25:40.716514",
     "exception": false,
     "start_time": "2022-11-08T11:25:40.686594",
     "status": "completed"
    },
    "tags": []
   },
   "outputs": [],
   "source": [
    "#Tokenizer library is used to break data into small fragments\n",
    "tokenizer=Tokenizer(filters=[])"
   ]
  },
  {
   "cell_type": "code",
   "execution_count": 19,
   "id": "e1b05960",
   "metadata": {
    "execution": {
     "iopub.execute_input": "2022-11-08T11:25:40.757097Z",
     "iopub.status.busy": "2022-11-08T11:25:40.756491Z",
     "iopub.status.idle": "2022-11-08T11:25:40.763086Z",
     "shell.execute_reply": "2022-11-08T11:25:40.761653Z"
    },
    "papermill": {
     "duration": 0.029848,
     "end_time": "2022-11-08T11:25:40.765476",
     "exception": false,
     "start_time": "2022-11-08T11:25:40.735628",
     "status": "completed"
    },
    "tags": []
   },
   "outputs": [],
   "source": [
    "#apply tokenizer model on vocab data\n",
    "tokenizer.fit_on_texts(vocab)"
   ]
  },
  {
   "cell_type": "code",
   "execution_count": 20,
   "id": "aac858cc",
   "metadata": {
    "execution": {
     "iopub.execute_input": "2022-11-08T11:25:40.806540Z",
     "iopub.status.busy": "2022-11-08T11:25:40.805136Z",
     "iopub.status.idle": "2022-11-08T11:25:40.814478Z",
     "shell.execute_reply": "2022-11-08T11:25:40.812942Z"
    },
    "papermill": {
     "duration": 0.032055,
     "end_time": "2022-11-08T11:25:40.816757",
     "exception": false,
     "start_time": "2022-11-08T11:25:40.784702",
     "status": "completed"
    },
    "tags": []
   },
   "outputs": [
    {
     "data": {
      "text/plain": [
       "{'took': 1,\n",
       " 'journeyed': 2,\n",
       " 'moved': 3,\n",
       " 'put': 4,\n",
       " 'office': 5,\n",
       " 'in': 6,\n",
       " 'up': 7,\n",
       " 'bedroom': 8,\n",
       " 'went': 9,\n",
       " 'yes': 10,\n",
       " 'no': 11,\n",
       " 'milk': 12,\n",
       " 'got': 13,\n",
       " 'down': 14,\n",
       " 'picked': 15,\n",
       " 'garden': 16,\n",
       " '?': 17,\n",
       " 'hallway': 18,\n",
       " 'discarded': 19,\n",
       " 'sandra': 20,\n",
       " '.': 21,\n",
       " 'to': 22,\n",
       " 'back': 23,\n",
       " 'left': 24,\n",
       " 'is': 25,\n",
       " 'the': 26,\n",
       " 'bathroom': 27,\n",
       " 'travelled': 28,\n",
       " 'football': 29,\n",
       " 'there': 30,\n",
       " 'kitchen': 31,\n",
       " 'mary': 32,\n",
       " 'john': 33,\n",
       " 'dropped': 34,\n",
       " 'daniel': 35,\n",
       " 'grabbed': 36,\n",
       " 'apple': 37}"
      ]
     },
     "execution_count": 20,
     "metadata": {},
     "output_type": "execute_result"
    }
   ],
   "source": [
    "#creating word indexes\n",
    "tokenizer.word_index"
   ]
  },
  {
   "cell_type": "code",
   "execution_count": 21,
   "id": "b59565c3",
   "metadata": {
    "execution": {
     "iopub.execute_input": "2022-11-08T11:25:40.857656Z",
     "iopub.status.busy": "2022-11-08T11:25:40.856290Z",
     "iopub.status.idle": "2022-11-08T11:25:40.863760Z",
     "shell.execute_reply": "2022-11-08T11:25:40.862456Z"
    },
    "papermill": {
     "duration": 0.030715,
     "end_time": "2022-11-08T11:25:40.866591",
     "exception": false,
     "start_time": "2022-11-08T11:25:40.835876",
     "status": "completed"
    },
    "tags": []
   },
   "outputs": [],
   "source": [
    "#getting question and stories from training data\n",
    "train_story_text=[]\n",
    "train_question_text=[]\n",
    "train_answers=[]\n",
    "for story,question,answer in train_data:\n",
    "    train_story_text.append(story)\n",
    "    train_question_text.append(question)\n"
   ]
  },
  {
   "cell_type": "code",
   "execution_count": 22,
   "id": "0e2e641e",
   "metadata": {
    "execution": {
     "iopub.execute_input": "2022-11-08T11:25:40.910615Z",
     "iopub.status.busy": "2022-11-08T11:25:40.910053Z",
     "iopub.status.idle": "2022-11-08T11:25:40.936773Z",
     "shell.execute_reply": "2022-11-08T11:25:40.935482Z"
    },
    "papermill": {
     "duration": 0.052257,
     "end_time": "2022-11-08T11:25:40.939751",
     "exception": false,
     "start_time": "2022-11-08T11:25:40.887494",
     "status": "completed"
    },
    "tags": []
   },
   "outputs": [],
   "source": [
    "#converting text into integer sequences\n",
    "train_story_seq=tokenizer.texts_to_sequences(train_story_text)"
   ]
  },
  {
   "cell_type": "code",
   "execution_count": 23,
   "id": "612cc712",
   "metadata": {
    "execution": {
     "iopub.execute_input": "2022-11-08T11:25:40.979611Z",
     "iopub.status.busy": "2022-11-08T11:25:40.979147Z",
     "iopub.status.idle": "2022-11-08T11:25:40.987417Z",
     "shell.execute_reply": "2022-11-08T11:25:40.986147Z"
    },
    "papermill": {
     "duration": 0.031038,
     "end_time": "2022-11-08T11:25:40.989749",
     "exception": false,
     "start_time": "2022-11-08T11:25:40.958711",
     "status": "completed"
    },
    "tags": []
   },
   "outputs": [
    {
     "data": {
      "text/plain": [
       "[32, 13, 26, 12, 30, 21, 33, 3, 22, 26, 8, 21]"
      ]
     },
     "execution_count": 23,
     "metadata": {},
     "output_type": "execute_result"
    }
   ],
   "source": [
    "train_story_seq[0]"
   ]
  },
  {
   "cell_type": "code",
   "execution_count": 24,
   "id": "43c3d2e0",
   "metadata": {
    "execution": {
     "iopub.execute_input": "2022-11-08T11:25:41.029871Z",
     "iopub.status.busy": "2022-11-08T11:25:41.029103Z",
     "iopub.status.idle": "2022-11-08T11:25:41.037662Z",
     "shell.execute_reply": "2022-11-08T11:25:41.036596Z"
    },
    "papermill": {
     "duration": 0.031687,
     "end_time": "2022-11-08T11:25:41.040165",
     "exception": false,
     "start_time": "2022-11-08T11:25:41.008478",
     "status": "completed"
    },
    "tags": []
   },
   "outputs": [
    {
     "data": {
      "text/plain": [
       "['Mary',\n",
       " 'got',\n",
       " 'the',\n",
       " 'milk',\n",
       " 'there',\n",
       " '.',\n",
       " 'John',\n",
       " 'moved',\n",
       " 'to',\n",
       " 'the',\n",
       " 'bedroom',\n",
       " '.']"
      ]
     },
     "execution_count": 24,
     "metadata": {},
     "output_type": "execute_result"
    }
   ],
   "source": [
    "train_story_text[0]"
   ]
  },
  {
   "cell_type": "code",
   "execution_count": 25,
   "id": "eccc9c0f",
   "metadata": {
    "execution": {
     "iopub.execute_input": "2022-11-08T11:25:41.081380Z",
     "iopub.status.busy": "2022-11-08T11:25:41.080581Z",
     "iopub.status.idle": "2022-11-08T11:25:41.089665Z",
     "shell.execute_reply": "2022-11-08T11:25:41.088634Z"
    },
    "papermill": {
     "duration": 0.032268,
     "end_time": "2022-11-08T11:25:41.092368",
     "exception": false,
     "start_time": "2022-11-08T11:25:41.060100",
     "status": "completed"
    },
    "tags": []
   },
   "outputs": [],
   "source": [
    "#function for vectorizing story from data\n",
    "def vectorize_stories(data,word_index =tokenizer.word_index,\n",
    "                     max_story_len=max_story_len,max_ques_len=max_ques_len):\n",
    "    X=[] #stroies\n",
    "    Xq=[] #question\n",
    "    Y=[] #correct answers\n",
    "\n",
    "    for story,query,answer in data:\n",
    "        x=[word_index[word.lower()] for word in story]\n",
    "        xq=[word_index[word.lower()] for word in query]\n",
    "        y=np.zeros(len(word_index)+1)\n",
    "        y[word_index[answer]]=1\n",
    "    \n",
    "        X.append(x)\n",
    "        Xq.append(xq)\n",
    "        Y.append(y)\n",
    "    return(pad_sequences(X,maxlen=max_story_len),\n",
    "          pad_sequences(Xq,maxlen=max_ques_len),\n",
    "          np.array(Y))\n",
    "        \n",
    "    "
   ]
  },
  {
   "cell_type": "code",
   "execution_count": 26,
   "id": "eef61515",
   "metadata": {
    "execution": {
     "iopub.execute_input": "2022-11-08T11:25:41.132482Z",
     "iopub.status.busy": "2022-11-08T11:25:41.131197Z",
     "iopub.status.idle": "2022-11-08T11:25:41.160585Z",
     "shell.execute_reply": "2022-11-08T11:25:41.159221Z"
    },
    "papermill": {
     "duration": 0.052447,
     "end_time": "2022-11-08T11:25:41.163526",
     "exception": false,
     "start_time": "2022-11-08T11:25:41.111079",
     "status": "completed"
    },
    "tags": []
   },
   "outputs": [],
   "source": [
    "#vectorizing for training data\n",
    "inputs_train,queries_train,answers_train=vectorize_stories(train_data)"
   ]
  },
  {
   "cell_type": "code",
   "execution_count": 27,
   "id": "bff7bdb7",
   "metadata": {
    "execution": {
     "iopub.execute_input": "2022-11-08T11:25:41.204685Z",
     "iopub.status.busy": "2022-11-08T11:25:41.203552Z",
     "iopub.status.idle": "2022-11-08T11:25:41.232008Z",
     "shell.execute_reply": "2022-11-08T11:25:41.230645Z"
    },
    "papermill": {
     "duration": 0.052321,
     "end_time": "2022-11-08T11:25:41.235183",
     "exception": false,
     "start_time": "2022-11-08T11:25:41.182862",
     "status": "completed"
    },
    "tags": []
   },
   "outputs": [],
   "source": [
    "#vectorizing for testing data\n",
    "inputs_test,queries_test,answers_test=vectorize_stories(test_data)"
   ]
  },
  {
   "cell_type": "code",
   "execution_count": 28,
   "id": "08aab94b",
   "metadata": {
    "execution": {
     "iopub.execute_input": "2022-11-08T11:25:41.274580Z",
     "iopub.status.busy": "2022-11-08T11:25:41.274055Z",
     "iopub.status.idle": "2022-11-08T11:25:41.283794Z",
     "shell.execute_reply": "2022-11-08T11:25:41.282625Z"
    },
    "papermill": {
     "duration": 0.032152,
     "end_time": "2022-11-08T11:25:41.286158",
     "exception": false,
     "start_time": "2022-11-08T11:25:41.254006",
     "status": "completed"
    },
    "tags": []
   },
   "outputs": [
    {
     "data": {
      "text/plain": [
       "array([[ 0,  0,  0, ..., 26,  8, 21],\n",
       "       [ 0,  0,  0, ..., 26, 16, 21],\n",
       "       [ 0,  0,  0, ..., 26, 16, 21],\n",
       "       ...,\n",
       "       [ 0,  0,  0, ..., 26, 37, 21],\n",
       "       [ 0,  0,  0, ..., 26, 16, 21],\n",
       "       [ 0,  0,  0, ..., 37, 30, 21]], dtype=int32)"
      ]
     },
     "execution_count": 28,
     "metadata": {},
     "output_type": "execute_result"
    }
   ],
   "source": [
    "inputs_train"
   ]
  },
  {
   "cell_type": "code",
   "execution_count": 29,
   "id": "2d3a67ea",
   "metadata": {
    "execution": {
     "iopub.execute_input": "2022-11-08T11:25:41.327844Z",
     "iopub.status.busy": "2022-11-08T11:25:41.327066Z",
     "iopub.status.idle": "2022-11-08T11:25:41.334898Z",
     "shell.execute_reply": "2022-11-08T11:25:41.333699Z"
    },
    "papermill": {
     "duration": 0.031756,
     "end_time": "2022-11-08T11:25:41.337263",
     "exception": false,
     "start_time": "2022-11-08T11:25:41.305507",
     "status": "completed"
    },
    "tags": []
   },
   "outputs": [
    {
     "data": {
      "text/plain": [
       "array([[25, 33,  6, 26, 31, 17],\n",
       "       [25, 33,  6, 26, 31, 17],\n",
       "       [25, 33,  6, 26, 16, 17],\n",
       "       ...,\n",
       "       [25, 32,  6, 26,  8, 17],\n",
       "       [25, 20,  6, 26, 16, 17],\n",
       "       [25, 32,  6, 26, 16, 17]], dtype=int32)"
      ]
     },
     "execution_count": 29,
     "metadata": {},
     "output_type": "execute_result"
    }
   ],
   "source": [
    "queries_test"
   ]
  },
  {
   "cell_type": "code",
   "execution_count": 30,
   "id": "24894b1d",
   "metadata": {
    "execution": {
     "iopub.execute_input": "2022-11-08T11:25:41.379251Z",
     "iopub.status.busy": "2022-11-08T11:25:41.378782Z",
     "iopub.status.idle": "2022-11-08T11:25:41.387369Z",
     "shell.execute_reply": "2022-11-08T11:25:41.386165Z"
    },
    "papermill": {
     "duration": 0.032573,
     "end_time": "2022-11-08T11:25:41.389987",
     "exception": false,
     "start_time": "2022-11-08T11:25:41.357414",
     "status": "completed"
    },
    "tags": []
   },
   "outputs": [
    {
     "data": {
      "text/plain": [
       "array([[0., 0., 0., ..., 0., 0., 0.],\n",
       "       [0., 0., 0., ..., 0., 0., 0.],\n",
       "       [0., 0., 0., ..., 0., 0., 0.],\n",
       "       ...,\n",
       "       [0., 0., 0., ..., 0., 0., 0.],\n",
       "       [0., 0., 0., ..., 0., 0., 0.],\n",
       "       [0., 0., 0., ..., 0., 0., 0.]])"
      ]
     },
     "execution_count": 30,
     "metadata": {},
     "output_type": "execute_result"
    }
   ],
   "source": [
    "answers_test"
   ]
  },
  {
   "cell_type": "code",
   "execution_count": 31,
   "id": "6780bf35",
   "metadata": {
    "execution": {
     "iopub.execute_input": "2022-11-08T11:25:41.431763Z",
     "iopub.status.busy": "2022-11-08T11:25:41.430835Z",
     "iopub.status.idle": "2022-11-08T11:25:41.438611Z",
     "shell.execute_reply": "2022-11-08T11:25:41.437591Z"
    },
    "papermill": {
     "duration": 0.031772,
     "end_time": "2022-11-08T11:25:41.441323",
     "exception": false,
     "start_time": "2022-11-08T11:25:41.409551",
     "status": "completed"
    },
    "tags": []
   },
   "outputs": [
    {
     "data": {
      "text/plain": [
       "10"
      ]
     },
     "execution_count": 31,
     "metadata": {},
     "output_type": "execute_result"
    }
   ],
   "source": [
    "tokenizer.word_index[\"yes\"]"
   ]
  },
  {
   "cell_type": "code",
   "execution_count": 32,
   "id": "e2fece48",
   "metadata": {
    "execution": {
     "iopub.execute_input": "2022-11-08T11:25:41.483264Z",
     "iopub.status.busy": "2022-11-08T11:25:41.482437Z",
     "iopub.status.idle": "2022-11-08T11:25:41.489542Z",
     "shell.execute_reply": "2022-11-08T11:25:41.488368Z"
    },
    "papermill": {
     "duration": 0.030432,
     "end_time": "2022-11-08T11:25:41.491920",
     "exception": false,
     "start_time": "2022-11-08T11:25:41.461488",
     "status": "completed"
    },
    "tags": []
   },
   "outputs": [
    {
     "data": {
      "text/plain": [
       "11"
      ]
     },
     "execution_count": 32,
     "metadata": {},
     "output_type": "execute_result"
    }
   ],
   "source": [
    "tokenizer.word_index[\"no\"]"
   ]
  },
  {
   "cell_type": "markdown",
   "id": "838d2c19",
   "metadata": {
    "papermill": {
     "duration": 0.019046,
     "end_time": "2022-11-08T11:25:41.530611",
     "exception": false,
     "start_time": "2022-11-08T11:25:41.511565",
     "status": "completed"
    },
    "tags": []
   },
   "source": [
    "<a id=\"3.2\"></a>\n",
    "## <span style=\"color:#E77F2A;\">Sequential Model Design and Model training</span>"
   ]
  },
  {
   "cell_type": "code",
   "execution_count": 33,
   "id": "a12935ce",
   "metadata": {
    "execution": {
     "iopub.execute_input": "2022-11-08T11:25:41.571747Z",
     "iopub.status.busy": "2022-11-08T11:25:41.571221Z",
     "iopub.status.idle": "2022-11-08T11:25:41.791531Z",
     "shell.execute_reply": "2022-11-08T11:25:41.790257Z"
    },
    "papermill": {
     "duration": 0.244878,
     "end_time": "2022-11-08T11:25:41.794847",
     "exception": false,
     "start_time": "2022-11-08T11:25:41.549969",
     "status": "completed"
    },
    "tags": []
   },
   "outputs": [],
   "source": [
    "#give input for model\n",
    "input_sequence = Input((max_story_len,))\n",
    "question=Input((max_ques_len,))"
   ]
  },
  {
   "cell_type": "code",
   "execution_count": 34,
   "id": "2c273f8f",
   "metadata": {
    "execution": {
     "iopub.execute_input": "2022-11-08T11:25:41.839742Z",
     "iopub.status.busy": "2022-11-08T11:25:41.839232Z",
     "iopub.status.idle": "2022-11-08T11:25:41.925801Z",
     "shell.execute_reply": "2022-11-08T11:25:41.924783Z"
    },
    "papermill": {
     "duration": 0.113282,
     "end_time": "2022-11-08T11:25:41.929243",
     "exception": false,
     "start_time": "2022-11-08T11:25:41.815961",
     "status": "completed"
    },
    "tags": []
   },
   "outputs": [
    {
     "name": "stderr",
     "output_type": "stream",
     "text": [
      "2022-11-08 11:25:41.857174: I tensorflow/core/common_runtime/process_util.cc:146] Creating new thread pool with default inter op setting: 2. Tune using inter_op_parallelism_threads for best performance.\n"
     ]
    }
   ],
   "source": [
    "#input encoder m\n",
    "input_encoder_m=Sequential()\n",
    "input_encoder_m.add(Embedding(input_dim=vocab_len,output_dim=64))\n",
    "input_encoder_m.add(Dropout(0.3))"
   ]
  },
  {
   "cell_type": "code",
   "execution_count": 35,
   "id": "83a97367",
   "metadata": {
    "execution": {
     "iopub.execute_input": "2022-11-08T11:25:41.974012Z",
     "iopub.status.busy": "2022-11-08T11:25:41.972707Z",
     "iopub.status.idle": "2022-11-08T11:25:41.994264Z",
     "shell.execute_reply": "2022-11-08T11:25:41.992941Z"
    },
    "papermill": {
     "duration": 0.047159,
     "end_time": "2022-11-08T11:25:41.997649",
     "exception": false,
     "start_time": "2022-11-08T11:25:41.950490",
     "status": "completed"
    },
    "tags": []
   },
   "outputs": [],
   "source": [
    "#input_encoder_c\n",
    "input_encoder_c=Sequential()\n",
    "input_encoder_c.add(Embedding(input_dim=vocab_len,output_dim=max_ques_len))\n",
    "input_encoder_c.add(Dropout(0.3))"
   ]
  },
  {
   "cell_type": "code",
   "execution_count": 36,
   "id": "3b38cda5",
   "metadata": {
    "execution": {
     "iopub.execute_input": "2022-11-08T11:25:42.042264Z",
     "iopub.status.busy": "2022-11-08T11:25:42.041308Z",
     "iopub.status.idle": "2022-11-08T11:25:42.064365Z",
     "shell.execute_reply": "2022-11-08T11:25:42.063106Z"
    },
    "papermill": {
     "duration": 0.048837,
     "end_time": "2022-11-08T11:25:42.067431",
     "exception": false,
     "start_time": "2022-11-08T11:25:42.018594",
     "status": "completed"
    },
    "tags": []
   },
   "outputs": [],
   "source": [
    "#question encoder\n",
    "question_encoder=Sequential()\n",
    "question_encoder.add(Embedding(input_dim=vocab_len,output_dim=64,input_length=max_ques_len))\n",
    "question_encoder.add(Dropout(0.3))"
   ]
  },
  {
   "cell_type": "code",
   "execution_count": 37,
   "id": "a3dd29c4",
   "metadata": {
    "execution": {
     "iopub.execute_input": "2022-11-08T11:25:42.109566Z",
     "iopub.status.busy": "2022-11-08T11:25:42.108508Z",
     "iopub.status.idle": "2022-11-08T11:25:42.134631Z",
     "shell.execute_reply": "2022-11-08T11:25:42.133303Z"
    },
    "papermill": {
     "duration": 0.050233,
     "end_time": "2022-11-08T11:25:42.137474",
     "exception": false,
     "start_time": "2022-11-08T11:25:42.087241",
     "status": "completed"
    },
    "tags": []
   },
   "outputs": [],
   "source": [
    "#ENCODDE THE SEQUENCES\n",
    "input_encoded_m=input_encoder_m(input_sequence)\n",
    "input_encoded_c=input_encoder_c(input_sequence)\n",
    "question_encoded=question_encoder(question)"
   ]
  },
  {
   "cell_type": "code",
   "execution_count": 38,
   "id": "ad817473",
   "metadata": {
    "execution": {
     "iopub.execute_input": "2022-11-08T11:25:42.179181Z",
     "iopub.status.busy": "2022-11-08T11:25:42.178692Z",
     "iopub.status.idle": "2022-11-08T11:25:42.197791Z",
     "shell.execute_reply": "2022-11-08T11:25:42.196591Z"
    },
    "papermill": {
     "duration": 0.043507,
     "end_time": "2022-11-08T11:25:42.200842",
     "exception": false,
     "start_time": "2022-11-08T11:25:42.157335",
     "status": "completed"
    },
    "tags": []
   },
   "outputs": [],
   "source": [
    "match=dot([input_encoded_m,question_encoded],axes=(2,2))\n",
    "match= Activation(\"softmax\")(match)"
   ]
  },
  {
   "cell_type": "code",
   "execution_count": 39,
   "id": "2c352a28",
   "metadata": {
    "execution": {
     "iopub.execute_input": "2022-11-08T11:25:42.243627Z",
     "iopub.status.busy": "2022-11-08T11:25:42.243147Z",
     "iopub.status.idle": "2022-11-08T11:25:42.257952Z",
     "shell.execute_reply": "2022-11-08T11:25:42.256571Z"
    },
    "papermill": {
     "duration": 0.039665,
     "end_time": "2022-11-08T11:25:42.261066",
     "exception": false,
     "start_time": "2022-11-08T11:25:42.221401",
     "status": "completed"
    },
    "tags": []
   },
   "outputs": [],
   "source": [
    "response=add([match,input_encoded_c])\n",
    "response=Permute((2,1))(response)"
   ]
  },
  {
   "cell_type": "code",
   "execution_count": 40,
   "id": "14dc43e4",
   "metadata": {
    "execution": {
     "iopub.execute_input": "2022-11-08T11:25:42.301800Z",
     "iopub.status.busy": "2022-11-08T11:25:42.301304Z",
     "iopub.status.idle": "2022-11-08T11:25:42.315001Z",
     "shell.execute_reply": "2022-11-08T11:25:42.313776Z"
    },
    "papermill": {
     "duration": 0.036788,
     "end_time": "2022-11-08T11:25:42.317501",
     "exception": false,
     "start_time": "2022-11-08T11:25:42.280713",
     "status": "completed"
    },
    "tags": []
   },
   "outputs": [
    {
     "data": {
      "text/plain": [
       "<KerasTensor: shape=(None, 6, 150) dtype=float32 (created by layer 'concatenate')>"
      ]
     },
     "execution_count": 40,
     "metadata": {},
     "output_type": "execute_result"
    }
   ],
   "source": [
    "#concatenate \n",
    "answer =concatenate([response,question_encoded])\n",
    "answer"
   ]
  },
  {
   "cell_type": "code",
   "execution_count": 41,
   "id": "6090a835",
   "metadata": {
    "execution": {
     "iopub.execute_input": "2022-11-08T11:25:42.360145Z",
     "iopub.status.busy": "2022-11-08T11:25:42.359690Z",
     "iopub.status.idle": "2022-11-08T11:25:42.697979Z",
     "shell.execute_reply": "2022-11-08T11:25:42.696750Z"
    },
    "papermill": {
     "duration": 0.3637,
     "end_time": "2022-11-08T11:25:42.701379",
     "exception": false,
     "start_time": "2022-11-08T11:25:42.337679",
     "status": "completed"
    },
    "tags": []
   },
   "outputs": [],
   "source": [
    "answer=LSTM(32)(answer)"
   ]
  },
  {
   "cell_type": "code",
   "execution_count": 42,
   "id": "030052bd",
   "metadata": {
    "execution": {
     "iopub.execute_input": "2022-11-08T11:25:42.744477Z",
     "iopub.status.busy": "2022-11-08T11:25:42.743925Z",
     "iopub.status.idle": "2022-11-08T11:25:42.761908Z",
     "shell.execute_reply": "2022-11-08T11:25:42.760630Z"
    },
    "papermill": {
     "duration": 0.043036,
     "end_time": "2022-11-08T11:25:42.764914",
     "exception": false,
     "start_time": "2022-11-08T11:25:42.721878",
     "status": "completed"
    },
    "tags": []
   },
   "outputs": [],
   "source": [
    "answer=Dropout(0.5)(answer)\n",
    "answer=Dense(vocab_len)(answer)"
   ]
  },
  {
   "cell_type": "code",
   "execution_count": 43,
   "id": "ca5cd4ef",
   "metadata": {
    "execution": {
     "iopub.execute_input": "2022-11-08T11:25:42.808404Z",
     "iopub.status.busy": "2022-11-08T11:25:42.807872Z",
     "iopub.status.idle": "2022-11-08T11:25:42.818959Z",
     "shell.execute_reply": "2022-11-08T11:25:42.817698Z"
    },
    "papermill": {
     "duration": 0.037608,
     "end_time": "2022-11-08T11:25:42.822119",
     "exception": false,
     "start_time": "2022-11-08T11:25:42.784511",
     "status": "completed"
    },
    "tags": []
   },
   "outputs": [],
   "source": [
    "answer=Activation(\"softmax\")(answer)"
   ]
  },
  {
   "cell_type": "code",
   "execution_count": 44,
   "id": "623c1e03",
   "metadata": {
    "execution": {
     "iopub.execute_input": "2022-11-08T11:25:42.864762Z",
     "iopub.status.busy": "2022-11-08T11:25:42.863809Z",
     "iopub.status.idle": "2022-11-08T11:25:42.884991Z",
     "shell.execute_reply": "2022-11-08T11:25:42.883574Z"
    },
    "papermill": {
     "duration": 0.045885,
     "end_time": "2022-11-08T11:25:42.887912",
     "exception": false,
     "start_time": "2022-11-08T11:25:42.842027",
     "status": "completed"
    },
    "tags": []
   },
   "outputs": [],
   "source": [
    "model=Model([input_sequence,question],answer)\n",
    "model.compile(optimizer=\"rmsprop\",loss='categorical_crossentropy',metrics=['accuracy'])"
   ]
  },
  {
   "cell_type": "code",
   "execution_count": 45,
   "id": "9aecec33",
   "metadata": {
    "execution": {
     "iopub.execute_input": "2022-11-08T11:25:42.930190Z",
     "iopub.status.busy": "2022-11-08T11:25:42.929699Z",
     "iopub.status.idle": "2022-11-08T11:25:42.938205Z",
     "shell.execute_reply": "2022-11-08T11:25:42.936910Z"
    },
    "papermill": {
     "duration": 0.033334,
     "end_time": "2022-11-08T11:25:42.941449",
     "exception": false,
     "start_time": "2022-11-08T11:25:42.908115",
     "status": "completed"
    },
    "tags": []
   },
   "outputs": [
    {
     "name": "stdout",
     "output_type": "stream",
     "text": [
      "Model: \"model\"\n",
      "__________________________________________________________________________________________________\n",
      "Layer (type)                    Output Shape         Param #     Connected to                     \n",
      "==================================================================================================\n",
      "input_1 (InputLayer)            [(None, 86)]         0                                            \n",
      "__________________________________________________________________________________________________\n",
      "input_2 (InputLayer)            [(None, 6)]          0                                            \n",
      "__________________________________________________________________________________________________\n",
      "sequential (Sequential)         (None, None, 64)     2432        input_1[0][0]                    \n",
      "__________________________________________________________________________________________________\n",
      "sequential_2 (Sequential)       (None, 6, 64)        2432        input_2[0][0]                    \n",
      "__________________________________________________________________________________________________\n",
      "dot (Dot)                       (None, 86, 6)        0           sequential[0][0]                 \n",
      "                                                                 sequential_2[0][0]               \n",
      "__________________________________________________________________________________________________\n",
      "activation (Activation)         (None, 86, 6)        0           dot[0][0]                        \n",
      "__________________________________________________________________________________________________\n",
      "sequential_1 (Sequential)       (None, None, 6)      228         input_1[0][0]                    \n",
      "__________________________________________________________________________________________________\n",
      "add (Add)                       (None, 86, 6)        0           activation[0][0]                 \n",
      "                                                                 sequential_1[0][0]               \n",
      "__________________________________________________________________________________________________\n",
      "permute (Permute)               (None, 6, 86)        0           add[0][0]                        \n",
      "__________________________________________________________________________________________________\n",
      "concatenate (Concatenate)       (None, 6, 150)       0           permute[0][0]                    \n",
      "                                                                 sequential_2[0][0]               \n",
      "__________________________________________________________________________________________________\n",
      "lstm (LSTM)                     (None, 32)           23424       concatenate[0][0]                \n",
      "__________________________________________________________________________________________________\n",
      "dropout_3 (Dropout)             (None, 32)           0           lstm[0][0]                       \n",
      "__________________________________________________________________________________________________\n",
      "dense (Dense)                   (None, 38)           1254        dropout_3[0][0]                  \n",
      "__________________________________________________________________________________________________\n",
      "activation_1 (Activation)       (None, 38)           0           dense[0][0]                      \n",
      "==================================================================================================\n",
      "Total params: 29,770\n",
      "Trainable params: 29,770\n",
      "Non-trainable params: 0\n",
      "__________________________________________________________________________________________________\n"
     ]
    }
   ],
   "source": [
    "model.summary()"
   ]
  },
  {
   "cell_type": "code",
   "execution_count": 46,
   "id": "943441f7",
   "metadata": {
    "execution": {
     "iopub.execute_input": "2022-11-08T11:25:42.985893Z",
     "iopub.status.busy": "2022-11-08T11:25:42.985452Z",
     "iopub.status.idle": "2022-11-08T11:25:56.770607Z",
     "shell.execute_reply": "2022-11-08T11:25:56.769035Z"
    },
    "papermill": {
     "duration": 13.810214,
     "end_time": "2022-11-08T11:25:56.773485",
     "exception": false,
     "start_time": "2022-11-08T11:25:42.963271",
     "status": "completed"
    },
    "tags": []
   },
   "outputs": [
    {
     "name": "stdout",
     "output_type": "stream",
     "text": [
      "Epoch 1/20\n"
     ]
    },
    {
     "name": "stderr",
     "output_type": "stream",
     "text": [
      "2022-11-08 11:25:43.054155: I tensorflow/compiler/mlir/mlir_graph_optimization_pass.cc:185] None of the MLIR Optimization Passes are enabled (registered 2)\n"
     ]
    },
    {
     "name": "stdout",
     "output_type": "stream",
     "text": [
      "32/32 [==============================] - 4s 35ms/step - loss: 2.0335 - accuracy: 0.4340 - val_loss: 1.0202 - val_accuracy: 0.5030\n",
      "Epoch 2/20\n",
      "32/32 [==============================] - 0s 15ms/step - loss: 1.0692 - accuracy: 0.4660 - val_loss: 0.7825 - val_accuracy: 0.5030\n",
      "Epoch 3/20\n",
      "32/32 [==============================] - 0s 15ms/step - loss: 0.8807 - accuracy: 0.5070 - val_loss: 0.7287 - val_accuracy: 0.5030\n",
      "Epoch 4/20\n",
      "32/32 [==============================] - 0s 15ms/step - loss: 0.8627 - accuracy: 0.4710 - val_loss: 0.7182 - val_accuracy: 0.5030\n",
      "Epoch 5/20\n",
      "32/32 [==============================] - 1s 16ms/step - loss: 0.8039 - accuracy: 0.4970 - val_loss: 0.7054 - val_accuracy: 0.5030\n",
      "Epoch 6/20\n",
      "32/32 [==============================] - 0s 15ms/step - loss: 0.7667 - accuracy: 0.5050 - val_loss: 0.7009 - val_accuracy: 0.4970\n",
      "Epoch 7/20\n",
      "32/32 [==============================] - 0s 16ms/step - loss: 0.7540 - accuracy: 0.4950 - val_loss: 0.6989 - val_accuracy: 0.4970\n",
      "Epoch 8/20\n",
      "32/32 [==============================] - 0s 14ms/step - loss: 0.7344 - accuracy: 0.4800 - val_loss: 0.7021 - val_accuracy: 0.5030\n",
      "Epoch 9/20\n",
      "32/32 [==============================] - 0s 15ms/step - loss: 0.7312 - accuracy: 0.4920 - val_loss: 0.6939 - val_accuracy: 0.5330\n",
      "Epoch 10/20\n",
      "32/32 [==============================] - 0s 16ms/step - loss: 0.7296 - accuracy: 0.4930 - val_loss: 0.6953 - val_accuracy: 0.5030\n",
      "Epoch 11/20\n",
      "32/32 [==============================] - 0s 15ms/step - loss: 0.7172 - accuracy: 0.4920 - val_loss: 0.6961 - val_accuracy: 0.4970\n",
      "Epoch 12/20\n",
      "32/32 [==============================] - 0s 16ms/step - loss: 0.7072 - accuracy: 0.4930 - val_loss: 0.6932 - val_accuracy: 0.4970\n",
      "Epoch 13/20\n",
      "32/32 [==============================] - 0s 15ms/step - loss: 0.7052 - accuracy: 0.5120 - val_loss: 0.6917 - val_accuracy: 0.5330\n",
      "Epoch 14/20\n",
      "32/32 [==============================] - 0s 15ms/step - loss: 0.7005 - accuracy: 0.5100 - val_loss: 0.6947 - val_accuracy: 0.5030\n",
      "Epoch 15/20\n",
      "32/32 [==============================] - 0s 15ms/step - loss: 0.7002 - accuracy: 0.5210 - val_loss: 0.6912 - val_accuracy: 0.5080\n",
      "Epoch 16/20\n",
      "32/32 [==============================] - 0s 15ms/step - loss: 0.6945 - accuracy: 0.5270 - val_loss: 0.6993 - val_accuracy: 0.5030\n",
      "Epoch 17/20\n",
      "32/32 [==============================] - 0s 15ms/step - loss: 0.6922 - accuracy: 0.5290 - val_loss: 0.6910 - val_accuracy: 0.5030\n",
      "Epoch 18/20\n",
      "32/32 [==============================] - 1s 16ms/step - loss: 0.6977 - accuracy: 0.5240 - val_loss: 0.6967 - val_accuracy: 0.5030\n",
      "Epoch 19/20\n",
      "32/32 [==============================] - 0s 15ms/step - loss: 0.6944 - accuracy: 0.5200 - val_loss: 0.7075 - val_accuracy: 0.4970\n",
      "Epoch 20/20\n",
      "32/32 [==============================] - 1s 17ms/step - loss: 0.6942 - accuracy: 0.5210 - val_loss: 0.6864 - val_accuracy: 0.5690\n"
     ]
    }
   ],
   "source": [
    "#training our model \n",
    "history=model.fit([inputs_train,queries_train],answers_train,\n",
    "                  batch_size=32,epochs=20,\n",
    "                  validation_data=([inputs_test,queries_test],answers_test)\n",
    "                 )"
   ]
  },
  {
   "cell_type": "code",
   "execution_count": 47,
   "id": "b686e814",
   "metadata": {
    "execution": {
     "iopub.execute_input": "2022-11-08T11:25:56.839390Z",
     "iopub.status.busy": "2022-11-08T11:25:56.837991Z",
     "iopub.status.idle": "2022-11-08T11:25:57.106385Z",
     "shell.execute_reply": "2022-11-08T11:25:57.105117Z"
    },
    "papermill": {
     "duration": 0.303557,
     "end_time": "2022-11-08T11:25:57.109178",
     "exception": false,
     "start_time": "2022-11-08T11:25:56.805621",
     "status": "completed"
    },
    "tags": []
   },
   "outputs": [
    {
     "name": "stdout",
     "output_type": "stream",
     "text": [
      "dict_keys(['loss', 'accuracy', 'val_loss', 'val_accuracy'])\n"
     ]
    },
    {
     "data": {
      "text/plain": [
       "Text(0.5, 0, 'epochs')"
      ]
     },
     "execution_count": 47,
     "metadata": {},
     "output_type": "execute_result"
    },
    {
     "data": {
      "image/png": "[encoded data removed]",
      "text/plain": [
       "<Figure size 432x288 with 1 Axes>"
      ]
     },
     "metadata": {
      "needs_background": "light"
     },
     "output_type": "display_data"
    }
   ],
   "source": [
    "import matplotlib.pyplot as plt\n",
    "print(history.history.keys())\n",
    "plt.plot(history.history[\"accuracy\"])\n",
    "plt.plot(history.history[\"val_accuracy\"])\n",
    "plt.title(\"model accuracy\")\n",
    "plt.ylabel(\"accuracy\")\n",
    "plt.xlabel(\"epochs\")"
   ]
  },
  {
   "cell_type": "code",
   "execution_count": 48,
   "id": "371ef110",
   "metadata": {
    "execution": {
     "iopub.execute_input": "2022-11-08T11:25:57.172822Z",
     "iopub.status.busy": "2022-11-08T11:25:57.172394Z",
     "iopub.status.idle": "2022-11-08T11:26:03.698396Z",
     "shell.execute_reply": "2022-11-08T11:26:03.697070Z"
    },
    "papermill": {
     "duration": 6.562018,
     "end_time": "2022-11-08T11:26:03.701904",
     "exception": false,
     "start_time": "2022-11-08T11:25:57.139886",
     "status": "completed"
    },
    "tags": []
   },
   "outputs": [
    {
     "name": "stderr",
     "output_type": "stream",
     "text": [
      "2022-11-08 11:25:59.993024: W tensorflow/python/util/util.cc:348] Sets are not currently considered sequences, but this may change in the future, so consider avoiding using them.\n"
     ]
    }
   ],
   "source": [
    "#save \n",
    "model.save(\"./CHATBOT_MODEL\")"
   ]
  },
  {
   "cell_type": "markdown",
   "id": "4639137b",
   "metadata": {
    "papermill": {
     "duration": 0.030425,
     "end_time": "2022-11-08T11:26:03.763121",
     "exception": false,
     "start_time": "2022-11-08T11:26:03.732696",
     "status": "completed"
    },
    "tags": []
   },
   "source": [
    "<a id=\"3.3\"></a>\n",
    "## <span style=\"color:#E77F2A;\">Model testing</span>"
   ]
  },
  {
   "cell_type": "code",
   "execution_count": 49,
   "id": "9e1353d5",
   "metadata": {
    "execution": {
     "iopub.execute_input": "2022-11-08T11:26:03.830790Z",
     "iopub.status.busy": "2022-11-08T11:26:03.830314Z",
     "iopub.status.idle": "2022-11-08T11:26:03.879208Z",
     "shell.execute_reply": "2022-11-08T11:26:03.876585Z"
    },
    "papermill": {
     "duration": 0.08569,
     "end_time": "2022-11-08T11:26:03.882982",
     "exception": false,
     "start_time": "2022-11-08T11:26:03.797292",
     "status": "completed"
    },
    "tags": []
   },
   "outputs": [
    {
     "name": "stderr",
     "output_type": "stream",
     "text": [
      "2022-11-08 11:26:03.832417: W tensorflow/core/util/tensor_slice_reader.cc:95] Could not open CHATBOT_MODEL: Failed precondition: CHATBOT_MODEL; Is a directory: perhaps your file is in a different file format and you need to use a different restore operator?\n"
     ]
    },
    {
     "data": {
      "text/plain": [
       "<tensorflow.python.training.tracking.util.CheckpointLoadStatus at 0x7fb8e1531890>"
      ]
     },
     "execution_count": 49,
     "metadata": {},
     "output_type": "execute_result"
    }
   ],
   "source": [
    "#evaluation on the test set\n",
    "model.load_weights(\"CHATBOT_MODEL\")"
   ]
  },
  {
   "cell_type": "code",
   "execution_count": 50,
   "id": "4cc9e344",
   "metadata": {
    "execution": {
     "iopub.execute_input": "2022-11-08T11:26:03.948506Z",
     "iopub.status.busy": "2022-11-08T11:26:03.948044Z",
     "iopub.status.idle": "2022-11-08T11:26:04.603021Z",
     "shell.execute_reply": "2022-11-08T11:26:04.601959Z"
    },
    "papermill": {
     "duration": 0.691599,
     "end_time": "2022-11-08T11:26:04.605944",
     "exception": false,
     "start_time": "2022-11-08T11:26:03.914345",
     "status": "completed"
    },
    "tags": []
   },
   "outputs": [],
   "source": [
    "pred_results = model.predict(([inputs_test,queries_test]))"
   ]
  },
  {
   "cell_type": "code",
   "execution_count": 51,
   "id": "b39875b3",
   "metadata": {
    "execution": {
     "iopub.execute_input": "2022-11-08T11:26:04.673292Z",
     "iopub.status.busy": "2022-11-08T11:26:04.672422Z",
     "iopub.status.idle": "2022-11-08T11:26:04.680730Z",
     "shell.execute_reply": "2022-11-08T11:26:04.679734Z"
    },
    "papermill": {
     "duration": 0.043798,
     "end_time": "2022-11-08T11:26:04.683108",
     "exception": false,
     "start_time": "2022-11-08T11:26:04.639310",
     "status": "completed"
    },
    "tags": []
   },
   "outputs": [
    {
     "data": {
      "text/plain": [
       "['Mary',\n",
       " 'got',\n",
       " 'the',\n",
       " 'milk',\n",
       " 'there',\n",
       " '.',\n",
       " 'John',\n",
       " 'moved',\n",
       " 'to',\n",
       " 'the',\n",
       " 'bedroom',\n",
       " '.']"
      ]
     },
     "execution_count": 51,
     "metadata": {},
     "output_type": "execute_result"
    }
   ],
   "source": [
    "test_data[0][0]"
   ]
  },
  {
   "cell_type": "code",
   "execution_count": 52,
   "id": "57a6e8bf",
   "metadata": {
    "execution": {
     "iopub.execute_input": "2022-11-08T11:26:04.748307Z",
     "iopub.status.busy": "2022-11-08T11:26:04.747437Z",
     "iopub.status.idle": "2022-11-08T11:26:04.753406Z",
     "shell.execute_reply": "2022-11-08T11:26:04.752435Z"
    },
    "papermill": {
     "duration": 0.041962,
     "end_time": "2022-11-08T11:26:04.755982",
     "exception": false,
     "start_time": "2022-11-08T11:26:04.714020",
     "status": "completed"
    },
    "tags": []
   },
   "outputs": [],
   "source": [
    "story=' '.join(word for word in train_data[23][0])"
   ]
  },
  {
   "cell_type": "code",
   "execution_count": 53,
   "id": "15108a26",
   "metadata": {
    "execution": {
     "iopub.execute_input": "2022-11-08T11:26:04.824570Z",
     "iopub.status.busy": "2022-11-08T11:26:04.823666Z",
     "iopub.status.idle": "2022-11-08T11:26:04.831627Z",
     "shell.execute_reply": "2022-11-08T11:26:04.830277Z"
    },
    "papermill": {
     "duration": 0.046632,
     "end_time": "2022-11-08T11:26:04.834455",
     "exception": false,
     "start_time": "2022-11-08T11:26:04.787823",
     "status": "completed"
    },
    "tags": []
   },
   "outputs": [
    {
     "data": {
      "text/plain": [
       "'Daniel grabbed the apple there . Mary travelled to the bedroom . Sandra got the milk there . Daniel moved to the hallway . Daniel moved to the bathroom . Mary took the football there . Daniel discarded the apple . Sandra journeyed to the hallway .'"
      ]
     },
     "execution_count": 53,
     "metadata": {},
     "output_type": "execute_result"
    }
   ],
   "source": [
    "story"
   ]
  },
  {
   "cell_type": "code",
   "execution_count": 54,
   "id": "0af0d7ef",
   "metadata": {
    "execution": {
     "iopub.execute_input": "2022-11-08T11:26:04.899896Z",
     "iopub.status.busy": "2022-11-08T11:26:04.899397Z",
     "iopub.status.idle": "2022-11-08T11:26:04.905439Z",
     "shell.execute_reply": "2022-11-08T11:26:04.904055Z"
    },
    "papermill": {
     "duration": 0.041235,
     "end_time": "2022-11-08T11:26:04.907871",
     "exception": false,
     "start_time": "2022-11-08T11:26:04.866636",
     "status": "completed"
    },
    "tags": []
   },
   "outputs": [],
   "source": [
    "query=' '.join(word for word in train_data[23][1])"
   ]
  },
  {
   "cell_type": "code",
   "execution_count": 55,
   "id": "811999fd",
   "metadata": {
    "execution": {
     "iopub.execute_input": "2022-11-08T11:26:04.972631Z",
     "iopub.status.busy": "2022-11-08T11:26:04.972129Z",
     "iopub.status.idle": "2022-11-08T11:26:04.979768Z",
     "shell.execute_reply": "2022-11-08T11:26:04.978410Z"
    },
    "papermill": {
     "duration": 0.043317,
     "end_time": "2022-11-08T11:26:04.982324",
     "exception": false,
     "start_time": "2022-11-08T11:26:04.939007",
     "status": "completed"
    },
    "tags": []
   },
   "outputs": [
    {
     "data": {
      "text/plain": [
       "'Is Sandra in the bedroom ?'"
      ]
     },
     "execution_count": 55,
     "metadata": {},
     "output_type": "execute_result"
    }
   ],
   "source": [
    "query"
   ]
  },
  {
   "cell_type": "code",
   "execution_count": 56,
   "id": "d8a27abb",
   "metadata": {
    "execution": {
     "iopub.execute_input": "2022-11-08T11:26:05.049221Z",
     "iopub.status.busy": "2022-11-08T11:26:05.048209Z",
     "iopub.status.idle": "2022-11-08T11:26:05.056031Z",
     "shell.execute_reply": "2022-11-08T11:26:05.054815Z"
    },
    "papermill": {
     "duration": 0.04328,
     "end_time": "2022-11-08T11:26:05.058779",
     "exception": false,
     "start_time": "2022-11-08T11:26:05.015499",
     "status": "completed"
    },
    "tags": []
   },
   "outputs": [
    {
     "data": {
      "text/plain": [
       "'no'"
      ]
     },
     "execution_count": 56,
     "metadata": {},
     "output_type": "execute_result"
    }
   ],
   "source": [
    "test_data[23][2]"
   ]
  },
  {
   "cell_type": "code",
   "execution_count": 57,
   "id": "424dc875",
   "metadata": {
    "execution": {
     "iopub.execute_input": "2022-11-08T11:26:05.123659Z",
     "iopub.status.busy": "2022-11-08T11:26:05.122530Z",
     "iopub.status.idle": "2022-11-08T11:26:05.130267Z",
     "shell.execute_reply": "2022-11-08T11:26:05.128912Z"
    },
    "papermill": {
     "duration": 0.042994,
     "end_time": "2022-11-08T11:26:05.133234",
     "exception": false,
     "start_time": "2022-11-08T11:26:05.090240",
     "status": "completed"
    },
    "tags": []
   },
   "outputs": [
    {
     "name": "stdout",
     "output_type": "stream",
     "text": [
      "predicted answer is no\n",
      "probability of certainity 0.5408171\n"
     ]
    }
   ],
   "source": [
    "val_max=np.argmax(pred_results[23])\n",
    "for key ,val in tokenizer.word_index.items():\n",
    "    if val==val_max:\n",
    "        k=key\n",
    "print(\"predicted answer is\",k)\n",
    "print(\"probability of certainity\",pred_results[23][val_max])"
   ]
  },
  {
   "cell_type": "code",
   "execution_count": 58,
   "id": "1b3d29ba",
   "metadata": {
    "execution": {
     "iopub.execute_input": "2022-11-08T11:26:05.197645Z",
     "iopub.status.busy": "2022-11-08T11:26:05.197162Z",
     "iopub.status.idle": "2022-11-08T11:26:05.205437Z",
     "shell.execute_reply": "2022-11-08T11:26:05.204205Z"
    },
    "papermill": {
     "duration": 0.043376,
     "end_time": "2022-11-08T11:26:05.208188",
     "exception": false,
     "start_time": "2022-11-08T11:26:05.164812",
     "status": "completed"
    },
    "tags": []
   },
   "outputs": [
    {
     "data": {
      "text/plain": [
       "{'.',\n",
       " '?',\n",
       " 'Daniel',\n",
       " 'Is',\n",
       " 'John',\n",
       " 'Mary',\n",
       " 'Sandra',\n",
       " 'apple',\n",
       " 'back',\n",
       " 'bathroom',\n",
       " 'bedroom',\n",
       " 'discarded',\n",
       " 'down',\n",
       " 'dropped',\n",
       " 'football',\n",
       " 'garden',\n",
       " 'got',\n",
       " 'grabbed',\n",
       " 'hallway',\n",
       " 'in',\n",
       " 'journeyed',\n",
       " 'kitchen',\n",
       " 'left',\n",
       " 'milk',\n",
       " 'moved',\n",
       " 'no',\n",
       " 'office',\n",
       " 'picked',\n",
       " 'put',\n",
       " 'the',\n",
       " 'there',\n",
       " 'to',\n",
       " 'took',\n",
       " 'travelled',\n",
       " 'up',\n",
       " 'went',\n",
       " 'yes'}"
      ]
     },
     "execution_count": 58,
     "metadata": {},
     "output_type": "execute_result"
    }
   ],
   "source": [
    "vocab"
   ]
  },
  {
   "cell_type": "code",
   "execution_count": 59,
   "id": "da2b7cfd",
   "metadata": {
    "execution": {
     "iopub.execute_input": "2022-11-08T11:26:05.274579Z",
     "iopub.status.busy": "2022-11-08T11:26:05.274106Z",
     "iopub.status.idle": "2022-11-08T11:26:05.281987Z",
     "shell.execute_reply": "2022-11-08T11:26:05.280856Z"
    },
    "papermill": {
     "duration": 0.044776,
     "end_time": "2022-11-08T11:26:05.284434",
     "exception": false,
     "start_time": "2022-11-08T11:26:05.239658",
     "status": "completed"
    },
    "tags": []
   },
   "outputs": [
    {
     "data": {
      "text/plain": [
       "['mary',\n",
       " 'dropped',\n",
       " 'the',\n",
       " 'football',\n",
       " 'sandra',\n",
       " 'discarded',\n",
       " 'apple',\n",
       " 'in',\n",
       " 'kitchen']"
      ]
     },
     "execution_count": 59,
     "metadata": {},
     "output_type": "execute_result"
    }
   ],
   "source": [
    "story=\"mary dropped the football sandra discarded apple in kitchen\"\n",
    "story.split()"
   ]
  },
  {
   "cell_type": "code",
   "execution_count": 60,
   "id": "677dbcfb",
   "metadata": {
    "execution": {
     "iopub.execute_input": "2022-11-08T11:26:05.349746Z",
     "iopub.status.busy": "2022-11-08T11:26:05.348886Z",
     "iopub.status.idle": "2022-11-08T11:26:05.354403Z",
     "shell.execute_reply": "2022-11-08T11:26:05.353174Z"
    },
    "papermill": {
     "duration": 0.040768,
     "end_time": "2022-11-08T11:26:05.356670",
     "exception": false,
     "start_time": "2022-11-08T11:26:05.315902",
     "status": "completed"
    },
    "tags": []
   },
   "outputs": [],
   "source": [
    "my_question=\"is apple in the kitchen ?\""
   ]
  },
  {
   "cell_type": "code",
   "execution_count": 61,
   "id": "db510cd2",
   "metadata": {
    "execution": {
     "iopub.execute_input": "2022-11-08T11:26:05.422197Z",
     "iopub.status.busy": "2022-11-08T11:26:05.421754Z",
     "iopub.status.idle": "2022-11-08T11:26:05.429290Z",
     "shell.execute_reply": "2022-11-08T11:26:05.428123Z"
    },
    "papermill": {
     "duration": 0.04355,
     "end_time": "2022-11-08T11:26:05.431568",
     "exception": false,
     "start_time": "2022-11-08T11:26:05.388018",
     "status": "completed"
    },
    "tags": []
   },
   "outputs": [
    {
     "data": {
      "text/plain": [
       "['is', 'apple', 'in', 'the', 'kitchen', '?']"
      ]
     },
     "execution_count": 61,
     "metadata": {},
     "output_type": "execute_result"
    }
   ],
   "source": [
    "my_question.split()"
   ]
  },
  {
   "cell_type": "code",
   "execution_count": 62,
   "id": "52562618",
   "metadata": {
    "execution": {
     "iopub.execute_input": "2022-11-08T11:26:05.498682Z",
     "iopub.status.busy": "2022-11-08T11:26:05.497615Z",
     "iopub.status.idle": "2022-11-08T11:26:05.503469Z",
     "shell.execute_reply": "2022-11-08T11:26:05.502457Z"
    },
    "papermill": {
     "duration": 0.043155,
     "end_time": "2022-11-08T11:26:05.506230",
     "exception": false,
     "start_time": "2022-11-08T11:26:05.463075",
     "status": "completed"
    },
    "tags": []
   },
   "outputs": [],
   "source": [
    "mydata= [(story.split(),my_question.split(),\"yes\")]"
   ]
  },
  {
   "cell_type": "code",
   "execution_count": 63,
   "id": "fc455238",
   "metadata": {
    "execution": {
     "iopub.execute_input": "2022-11-08T11:26:05.573589Z",
     "iopub.status.busy": "2022-11-08T11:26:05.572740Z",
     "iopub.status.idle": "2022-11-08T11:26:05.577867Z",
     "shell.execute_reply": "2022-11-08T11:26:05.576929Z"
    },
    "papermill": {
     "duration": 0.041584,
     "end_time": "2022-11-08T11:26:05.580257",
     "exception": false,
     "start_time": "2022-11-08T11:26:05.538673",
     "status": "completed"
    },
    "tags": []
   },
   "outputs": [],
   "source": [
    "my_story,my_ques,my_ans = vectorize_stories(mydata)"
   ]
  },
  {
   "cell_type": "code",
   "execution_count": 64,
   "id": "862c30e2",
   "metadata": {
    "execution": {
     "iopub.execute_input": "2022-11-08T11:26:05.646125Z",
     "iopub.status.busy": "2022-11-08T11:26:05.645687Z",
     "iopub.status.idle": "2022-11-08T11:26:05.717054Z",
     "shell.execute_reply": "2022-11-08T11:26:05.715800Z"
    },
    "papermill": {
     "duration": 0.107561,
     "end_time": "2022-11-08T11:26:05.720206",
     "exception": false,
     "start_time": "2022-11-08T11:26:05.612645",
     "status": "completed"
    },
    "tags": []
   },
   "outputs": [],
   "source": [
    "pred_results= model.predict(([my_story,my_ques]))"
   ]
  },
  {
   "cell_type": "code",
   "execution_count": 65,
   "id": "88b90722",
   "metadata": {
    "execution": {
     "iopub.execute_input": "2022-11-08T11:26:05.787061Z",
     "iopub.status.busy": "2022-11-08T11:26:05.786624Z",
     "iopub.status.idle": "2022-11-08T11:26:05.793766Z",
     "shell.execute_reply": "2022-11-08T11:26:05.792610Z"
    },
    "papermill": {
     "duration": 0.043847,
     "end_time": "2022-11-08T11:26:05.796327",
     "exception": false,
     "start_time": "2022-11-08T11:26:05.752480",
     "status": "completed"
    },
    "tags": []
   },
   "outputs": [
    {
     "name": "stdout",
     "output_type": "stream",
     "text": [
      "predicted answer is: yes\n",
      "probability of certainity 0.5072075\n"
     ]
    }
   ],
   "source": [
    "val_max=np.argmax(pred_results[0])\n",
    "for key ,val in tokenizer.word_index.items():\n",
    "    if val==val_max:\n",
    "        k=key\n",
    "print(\"predicted answer is:\",k)\n",
    "print(\"probability of certainity\",pred_results[0][val_max])"
   ]
  },
  {
   "cell_type": "markdown",
   "id": "ca3149b4",
   "metadata": {
    "papermill": {
     "duration": 0.031053,
     "end_time": "2022-11-08T11:26:05.859071",
     "exception": false,
     "start_time": "2022-11-08T11:26:05.828018",
     "status": "completed"
    },
    "tags": []
   },
   "source": [
    "\n",
    "### <span style=\"color:#E77F2A;\"> If you find this helpful, I would really appreciate the upvote!</span>\n",
    "\n",
    "### <span style=\"color:#E77F2A;\">If you see something wrong please let me know.</span>\n",
    "\n",
    "### <span style=\"color:#E77F2A;\">And lastly Im happy to hear your thoughts about the notebook for me to also improve!</span>"
   ]
  }
 ],
 "metadata": {
  "kernelspec": {
   "display_name": "Python 3",
   "language": "python",
   "name": "python3"
  },
  "language_info": {
   "codemirror_mode": {
    "name": "ipython",
    "version": 3
   },
   "file_extension": ".py",
   "mimetype": "text/x-python",
   "name": "python",
   "nbconvert_exporter": "python",
   "pygments_lexer": "ipython3",
   "version": "3.7.12"
  },
  "papermill": {
   "default_parameters": {},
   "duration": 45.330001,
   "end_time": "2022-11-08T11:26:08.974116",
   "environment_variables": {},
   "exception": null,
   "input_path": "__notebook__.ipynb",
   "output_path": "__notebook__.ipynb",
   "parameters": {},
   "start_time": "2022-11-08T11:25:23.644115",
   "version": "2.3.4"
  }
 },
 "nbformat": 4,
 "nbformat_minor": 5
}
