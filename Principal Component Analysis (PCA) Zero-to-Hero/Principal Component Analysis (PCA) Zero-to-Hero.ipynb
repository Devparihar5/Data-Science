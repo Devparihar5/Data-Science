{
 "cells": [
  {
   "cell_type": "markdown",
   "id": "0f485bf6",
   "metadata": {
    "papermill": {
     "duration": 0.011083,
     "end_time": "2023-11-16T13:32:00.720763",
     "exception": false,
     "start_time": "2023-11-16T13:32:00.709680",
     "status": "completed"
    },
    "tags": []
   },
   "source": [
    "# Principal Component Analysis (PCA)\n",
    "In this notebook, you shall implement PCA and then apply it (once again) to the MNIST digit dataset."
   ]
  },
  {
   "cell_type": "markdown",
   "id": "80695034",
   "metadata": {
    "papermill": {
     "duration": 0.01028,
     "end_time": "2023-11-16T13:32:00.741813",
     "exception": false,
     "start_time": "2023-11-16T13:32:00.731533",
     "status": "completed"
    },
    "tags": []
   },
   "source": [
    "## Learning objective\n",
    "1. Write code that implements PCA.\n",
    "2. Write code that implements PCA for high-dimensional datasets"
   ]
  },
  {
   "cell_type": "markdown",
   "id": "344e5038",
   "metadata": {
    "papermill": {
     "duration": 0.010654,
     "end_time": "2023-11-16T13:32:00.763089",
     "exception": false,
     "start_time": "2023-11-16T13:32:00.752435",
     "status": "completed"
    },
    "tags": []
   },
   "source": [
    "Let's first import the packages we need for this week."
   ]
  },
  {
   "cell_type": "code",
   "execution_count": 1,
   "id": "1521c982",
   "metadata": {
    "execution": {
     "iopub.execute_input": "2023-11-16T13:32:00.786174Z",
     "iopub.status.busy": "2023-11-16T13:32:00.785802Z",
     "iopub.status.idle": "2023-11-16T13:32:01.823207Z",
     "shell.execute_reply": "2023-11-16T13:32:01.822294Z"
    },
    "papermill": {
     "duration": 1.051893,
     "end_time": "2023-11-16T13:32:01.825517",
     "exception": false,
     "start_time": "2023-11-16T13:32:00.773624",
     "status": "completed"
    },
    "tags": []
   },
   "outputs": [],
   "source": [
    "# PACKAGE: DO NOT EDIT\n",
    "import numpy as np\n",
    "import scipy\n",
    "import scipy.stats"
   ]
  },
  {
   "cell_type": "code",
   "execution_count": 4,
   "metadata": {},
   "outputs": [],
   "source": [
    "!pip install ipywidgets --q"
   ]
  },
  {
   "cell_type": "code",
   "execution_count": 5,
   "id": "874d5ec4",
   "metadata": {
    "execution": {
     "iopub.execute_input": "2023-11-16T13:32:01.851002Z",
     "iopub.status.busy": "2023-11-16T13:32:01.850618Z",
     "iopub.status.idle": "2023-11-16T13:32:01.934876Z",
     "shell.execute_reply": "2023-11-16T13:32:01.933895Z"
    },
    "papermill": {
     "duration": 0.098905,
     "end_time": "2023-11-16T13:32:01.937332",
     "exception": false,
     "start_time": "2023-11-16T13:32:01.838427",
     "status": "completed"
    },
    "tags": []
   },
   "outputs": [],
   "source": [
    "import matplotlib.pyplot as plt\n",
    "from ipywidgets import interact\n",
    "\n",
    "plt.style.use('fivethirtyeight')\n",
    "%matplotlib inline"
   ]
  },
  {
   "cell_type": "code",
   "execution_count": 7,
   "id": "1a9c887e",
   "metadata": {
    "execution": {
     "iopub.execute_input": "2023-11-16T13:32:01.961108Z",
     "iopub.status.busy": "2023-11-16T13:32:01.960658Z",
     "iopub.status.idle": "2023-11-16T13:32:01.966551Z",
     "shell.execute_reply": "2023-11-16T13:32:01.965495Z"
    },
    "papermill": {
     "duration": 0.020739,
     "end_time": "2023-11-16T13:32:01.968924",
     "exception": false,
     "start_time": "2023-11-16T13:32:01.948185",
     "status": "completed"
    },
    "tags": []
   },
   "outputs": [],
   "source": [
    "from six.moves import urllib\n",
    "\n",
    "def load_mnist():\n",
    "    mnist_path = \"./mnist-original.mat\"\n",
    "    from scipy.io import loadmat\n",
    "    mnist_raw = loadmat(mnist_path)\n",
    "    mnist = {\n",
    "        \"data\": mnist_raw[\"data\"].T,\n",
    "        \"target\": mnist_raw[\"label\"][0],\n",
    "        \"COL_NAMES\": [\"label\", \"data\"],\n",
    "        \"DESCR\": \"mldata.org dataset: mnist-original\",\n",
    "    }\n",
    "    return mnist"
   ]
  },
  {
   "cell_type": "markdown",
   "id": "7ff7ed3f",
   "metadata": {
    "papermill": {
     "duration": 0.010341,
     "end_time": "2023-11-16T13:32:01.990062",
     "exception": false,
     "start_time": "2023-11-16T13:32:01.979721",
     "status": "completed"
    },
    "tags": []
   },
   "source": [
    "Now, let's plot a digit from the dataset:"
   ]
  },
  {
   "cell_type": "code",
   "execution_count": 8,
   "id": "09193c6d",
   "metadata": {
    "execution": {
     "iopub.execute_input": "2023-11-16T13:32:02.012923Z",
     "iopub.status.busy": "2023-11-16T13:32:02.012574Z",
     "iopub.status.idle": "2023-11-16T13:32:02.526259Z",
     "shell.execute_reply": "2023-11-16T13:32:02.525342Z"
    },
    "papermill": {
     "duration": 0.528138,
     "end_time": "2023-11-16T13:32:02.528831",
     "exception": false,
     "start_time": "2023-11-16T13:32:02.000693",
     "status": "completed"
    },
    "tags": []
   },
   "outputs": [],
   "source": [
    "MNIST = load_mnist()\n",
    "images, labels = MNIST['data'], MNIST['target']"
   ]
  },
  {
   "cell_type": "code",
   "execution_count": 9,
   "id": "2fde05c5",
   "metadata": {
    "execution": {
     "iopub.execute_input": "2023-11-16T13:32:02.552496Z",
     "iopub.status.busy": "2023-11-16T13:32:02.551450Z",
     "iopub.status.idle": "2023-11-16T13:32:02.794748Z",
     "shell.execute_reply": "2023-11-16T13:32:02.793618Z"
    },
    "papermill": {
     "duration": 0.257376,
     "end_time": "2023-11-16T13:32:02.796998",
     "exception": false,
     "start_time": "2023-11-16T13:32:02.539622",
     "status": "completed"
    },
    "tags": []
   },
   "outputs": [
    {
     "data": {
      "image/png": "[encoded data removed]",
      "text/plain": [
       "<Figure size 400x400 with 1 Axes>"
      ]
     },
     "metadata": {},
     "output_type": "display_data"
    }
   ],
   "source": [
    "plt.figure(figsize=(4,4))\n",
    "plt.imshow(images[0].reshape(28,28), cmap='gray');\n",
    "plt.grid(False)"
   ]
  },
  {
   "cell_type": "markdown",
   "id": "fddaef04",
   "metadata": {
    "papermill": {
     "duration": 0.010495,
     "end_time": "2023-11-16T13:32:02.818265",
     "exception": false,
     "start_time": "2023-11-16T13:32:02.807770",
     "status": "completed"
    },
    "tags": []
   },
   "source": [
    "## PCA\n",
    "\n",
    "Now we will implement PCA. Before we do that, let's pause for a moment and\n",
    "think about the steps for performing PCA. Assume that we are performing PCA on\n",
    "some dataset $\\boldsymbol X$ for $M$ principal components. \n",
    "We then need to perform the following steps, which we break into parts:\n",
    "\n",
    "1. Data normalization (`normalize`).\n",
    "2. Find eigenvalues and corresponding eigenvectors for the covariance matrix $S$.\n",
    "   Sort by the largest eigenvalues and the corresponding eigenvectors (`eig`).\n",
    "3. Compute the orthogonal projection matrix and use that to project the data onto the subspace spanned by the eigenvectors."
   ]
  },
  {
   "cell_type": "markdown",
   "id": "06e93faa",
   "metadata": {
    "papermill": {
     "duration": 0.01056,
     "end_time": "2023-11-16T13:32:02.839537",
     "exception": false,
     "start_time": "2023-11-16T13:32:02.828977",
     "status": "completed"
    },
    "tags": []
   },
   "source": [
    "### Data normalization `normalize`\n",
    "\n",
    "You will first implement the data normalization mentioned above.\n",
    "\n",
    "Before you implement the main steps of PCA, you need to do some data preprocessing.\n",
    "\n",
    "To preprocess the dataset for PCA, you need to make sure that the dataset has zero mean. Given a dataset $\\mathbf{X}$,\n",
    " subtract the mean vector from each row of the dataset to obtain a zero-mean dataset $\\overline{\\mathbf{X}}$. In the first part of this notebook, you will implement `normalize` to do that. In practice, sometimes you shall also divide by standard deviation, but this is not necessary for this notebook.\n",
    "\n",
    "To work with images, it's also a common practice to convert the pixels from unsigned interger 8 (uint8) encoding to a floating point number representation between 0-1. We will do this conversion for you for the MNIST dataset so that you don't have to worry about it.\n",
    "\n",
    "Data normalization is a common practice. More details can be found in\n",
    "[Data Normalization or Feature Scaling](https://en.wikipedia.org/wiki/Feature_scaling)."
   ]
  },
  {
   "cell_type": "code",
   "execution_count": 10,
   "id": "80164579",
   "metadata": {
    "execution": {
     "iopub.execute_input": "2023-11-16T13:32:02.863110Z",
     "iopub.status.busy": "2023-11-16T13:32:02.862730Z",
     "iopub.status.idle": "2023-11-16T13:32:02.868513Z",
     "shell.execute_reply": "2023-11-16T13:32:02.867434Z"
    },
    "nbgrader": {
     "grade": false,
     "grade_id": "cell-10a35b1c4186ecb4",
     "locked": false,
     "schema_version": 3,
     "solution": true,
     "task": false
    },
    "papermill": {
     "duration": 0.020382,
     "end_time": "2023-11-16T13:32:02.870707",
     "exception": false,
     "start_time": "2023-11-16T13:32:02.850325",
     "status": "completed"
    },
    "tags": []
   },
   "outputs": [],
   "source": [
    "def normalize(X):\n",
    "    \"\"\"Normalize the given dataset X to have zero mean.\n",
    "    Args:\n",
    "        X: ndarray, dataset of shape (N,D) where D is the dimension of the data,\n",
    "           and N is the number of datapoints\n",
    "    \n",
    "    Returns:\n",
    "        (Xbar, mean): tuple of ndarray, Xbar is the normalized dataset\n",
    "        with mean 0; mean is the sample mean of the dataset.\n",
    "    \"\"\"\n",
    "    N, D = X.shape\n",
    "    mu = np.mean(X, axis=0)              \n",
    "    Xbar = X - mu      \n",
    "    return Xbar, mu"
   ]
  },
  {
   "cell_type": "code",
   "execution_count": 11,
   "id": "4632fe47",
   "metadata": {
    "execution": {
     "iopub.execute_input": "2023-11-16T13:32:02.952627Z",
     "iopub.status.busy": "2023-11-16T13:32:02.951912Z",
     "iopub.status.idle": "2023-11-16T13:32:02.960173Z",
     "shell.execute_reply": "2023-11-16T13:32:02.959433Z"
    },
    "nbgrader": {
     "grade": true,
     "grade_id": "cell-8ed3ab2f7f38aab4",
     "locked": true,
     "points": 1,
     "schema_version": 3,
     "solution": false,
     "task": false
    },
    "papermill": {
     "duration": 0.022778,
     "end_time": "2023-11-16T13:32:02.962263",
     "exception": false,
     "start_time": "2023-11-16T13:32:02.939485",
     "status": "completed"
    },
    "tags": []
   },
   "outputs": [],
   "source": [
    "\"\"\"Test data normalization\"\"\"\n",
    "from numpy.testing import assert_allclose\n",
    "\n",
    "X0 = np.array([[0, 0.0], \n",
    "               [1.0, 1.0], \n",
    "               [2.0, 2.0]])\n",
    "X0_normalize, X0_mean = normalize(X0)\n",
    "# Test that normalized data has zero mean\n",
    "assert_allclose(np.mean(X0_normalize, 0), np.zeros((2,)))\n",
    "assert_allclose(X0_mean, np.array([1.0, 1.0]))\n",
    "assert_allclose(normalize(X0_normalize)[0], X0_normalize)\n",
    "\n",
    "\n",
    "X0 = np.array([[0, 0.0], \n",
    "               [1.0, 0.0], \n",
    "               [2.0, 0.0]])\n",
    "X0_normalize, X0_mean = normalize(X0)\n",
    "# Test that normalized data has zero mean and unit variance\n",
    "assert_allclose(np.mean(X0_normalize, 0), np.zeros((2,)))\n",
    "assert_allclose(X0_mean, np.array([1.0, 0.0]))\n",
    "assert_allclose(normalize(X0_normalize)[0], X0_normalize)"
   ]
  },
  {
   "cell_type": "markdown",
   "id": "d37d6ee0",
   "metadata": {
    "papermill": {
     "duration": 0.010783,
     "end_time": "2023-11-16T13:32:02.984682",
     "exception": false,
     "start_time": "2023-11-16T13:32:02.973899",
     "status": "completed"
    },
    "tags": []
   },
   "source": [
    "### Compute eigenvalues and eigenvectors `eig`\n",
    "\n",
    "Recall that in order to find the principal components of the data, you must find the eigenvalues of the covariance matrix. In the next function, you shall write code which computes the eigenvalues and eigenvectors for some covariance matrix and then sorts them in decreasing order of the eigenvalues.\n",
    "\n",
    "You can use the library routines in `np.linalg.*` ([documentation](https://numpy.org/doc/stable/reference/routines.linalg.html)) for this."
   ]
  },
  {
   "cell_type": "code",
   "execution_count": 12,
   "id": "ee240147",
   "metadata": {
    "execution": {
     "iopub.execute_input": "2023-11-16T13:32:03.008762Z",
     "iopub.status.busy": "2023-11-16T13:32:03.007796Z",
     "iopub.status.idle": "2023-11-16T13:32:03.013267Z",
     "shell.execute_reply": "2023-11-16T13:32:03.012555Z"
    },
    "nbgrader": {
     "grade": false,
     "grade_id": "cell-6d74b9253f3a0461",
     "locked": false,
     "schema_version": 3,
     "solution": true,
     "task": false
    },
    "papermill": {
     "duration": 0.019556,
     "end_time": "2023-11-16T13:32:03.015179",
     "exception": false,
     "start_time": "2023-11-16T13:32:02.995623",
     "status": "completed"
    },
    "tags": []
   },
   "outputs": [],
   "source": [
    "def eig(S):\n",
    "    \"\"\"Compute the eigenvalues and corresponding eigenvectors\n",
    "        for the covariance matrix S.\n",
    "    Args:\n",
    "        S: ndarray, covariance matrix\n",
    "\n",
    "    Returns:\n",
    "        (eigvals, eigvecs): ndarray, the eigenvalues and eigenvectors\n",
    "\n",
    "    Note:\n",
    "        the eigenvals and eigenvecs should be sorted in descending\n",
    "        order of the eigen values\n",
    "    \"\"\"\n",
    "    eigvals, eigvecs = np.linalg.eig(S.T)\n",
    "    # The eigenvalues and eigenvectors need to be sorted in descending order according to the eigenvalues\n",
    "    # We will use `np.argsort` to find a permutation of the indices of eigvals that will sort eigvals in ascending order and\n",
    "    # then find the descending order via [::-1], which reverse the indices\n",
    "    # (https://docs.scipy.org/doc/numpy/reference/generated/numpy.argsort.html)\n",
    "    \n",
    "    sort_indices = np.argsort(eigvals)[::-1]\n",
    "    return eigvals[sort_indices], eigvecs[:, sort_indices]"
   ]
  },
  {
   "cell_type": "markdown",
   "id": "2e5b1a34",
   "metadata": {
    "papermill": {
     "duration": 0.010786,
     "end_time": "2023-11-16T13:32:03.036974",
     "exception": false,
     "start_time": "2023-11-16T13:32:03.026188",
     "status": "completed"
    },
    "tags": []
   },
   "source": [
    "Some test cases for implementing `eig`."
   ]
  },
  {
   "cell_type": "code",
   "execution_count": 13,
   "id": "ad9adec0",
   "metadata": {
    "execution": {
     "iopub.execute_input": "2023-11-16T13:32:03.060947Z",
     "iopub.status.busy": "2023-11-16T13:32:03.060339Z",
     "iopub.status.idle": "2023-11-16T13:32:03.081902Z",
     "shell.execute_reply": "2023-11-16T13:32:03.080786Z"
    },
    "nbgrader": {
     "grade": true,
     "grade_id": "cell-a8db750754a119a2",
     "locked": true,
     "points": 1,
     "schema_version": 3,
     "solution": false,
     "task": false
    },
    "papermill": {
     "duration": 0.036619,
     "end_time": "2023-11-16T13:32:03.084420",
     "exception": false,
     "start_time": "2023-11-16T13:32:03.047801",
     "status": "completed"
    },
    "tags": []
   },
   "outputs": [],
   "source": [
    "def _flip_eigenvectors(B):\n",
    "    \"\"\"Flip the eigenvectors.    \n",
    "    \"\"\"\n",
    "    signs = np.sign(B[np.argmax(np.abs(B), axis=0), range(B.shape[1])])\n",
    "    return B * signs\n",
    "\n",
    "def _normalize_eigenvectors(B):\n",
    "    # Normalize eigenvectors to have unit length\n",
    "    # Also flip the direction of the eigenvector based on\n",
    "    # the first element\n",
    "    B_normalized = B / np.linalg.norm(B, axis=0)\n",
    "    for i in range(B.shape[1]):\n",
    "        if (B_normalized[0, i] < 0):\n",
    "            B_normalized[:, i] = -B_normalized[:, i]\n",
    "    return B_normalized\n",
    "\n",
    "\n",
    "A = np.array([[3, 2], [2, 3]])\n",
    "expected_eigenvalues = np.array([5., 1.])\n",
    "expected_eigenvectors = np.array(\n",
    "    [[ 0.70710678, -0.70710678],\n",
    "     [ 0.70710678,  0.70710678]]\n",
    ")\n",
    "actual_eigenvalues, actual_eigenvectors = eig(A)\n",
    "# Check that the eigenvalues match\n",
    "assert_allclose(actual_eigenvalues, expected_eigenvalues)\n",
    "# Check that the eigenvectors match\n",
    "assert_allclose(\n",
    "    _normalize_eigenvectors(actual_eigenvectors),\n",
    "    _normalize_eigenvectors(expected_eigenvectors),\n",
    ")\n",
    "\n"
   ]
  },
  {
   "cell_type": "markdown",
   "id": "d1490ffc",
   "metadata": {
    "papermill": {
     "duration": 0.011057,
     "end_time": "2023-11-16T13:32:03.107297",
     "exception": false,
     "start_time": "2023-11-16T13:32:03.096240",
     "status": "completed"
    },
    "tags": []
   },
   "source": [
    "### Compute projection matrix\n",
    "\n",
    "Next given a orthonormal basis spanned by the eigenvectors, you will compute the projection matrix. The projection matrix $P$ can be computed as follows: $$P = \\boldsymbol B(\\boldsymbol B^T\\boldsymbol B)^{-1}\\boldsymbol B^T$$ where $\\boldsymbol B$ is the basis vectors arranged as the columns of the matrix."
   ]
  },
  {
   "cell_type": "code",
   "execution_count": 14,
   "id": "85d8ca99",
   "metadata": {
    "execution": {
     "iopub.execute_input": "2023-11-16T13:32:03.131093Z",
     "iopub.status.busy": "2023-11-16T13:32:03.130706Z",
     "iopub.status.idle": "2023-11-16T13:32:03.135759Z",
     "shell.execute_reply": "2023-11-16T13:32:03.134772Z"
    },
    "nbgrader": {
     "grade": false,
     "grade_id": "cell-3498a1f49501ed3d",
     "locked": false,
     "schema_version": 3,
     "solution": true,
     "task": false
    },
    "papermill": {
     "duration": 0.019464,
     "end_time": "2023-11-16T13:32:03.137839",
     "exception": false,
     "start_time": "2023-11-16T13:32:03.118375",
     "status": "completed"
    },
    "tags": []
   },
   "outputs": [],
   "source": [
    "def projection_matrix(B):\n",
    "    \"\"\"Compute the projection matrix onto the space spanned by `B`\n",
    "    Args:\n",
    "        B: ndarray of dimension (D, M), the basis for the subspace\n",
    "        \n",
    "    Returns:\n",
    "        P: the projection matrix\n",
    "    \"\"\"\n",
    "\n",
    "    P = B @ np.linalg.inv(B.T @ B) @ B.T\n",
    "    return P"
   ]
  },
  {
   "cell_type": "code",
   "execution_count": 15,
   "id": "b12109a8",
   "metadata": {
    "execution": {
     "iopub.execute_input": "2023-11-16T13:32:03.161739Z",
     "iopub.status.busy": "2023-11-16T13:32:03.161360Z",
     "iopub.status.idle": "2023-11-16T13:32:03.167712Z",
     "shell.execute_reply": "2023-11-16T13:32:03.166561Z"
    },
    "nbgrader": {
     "grade": true,
     "grade_id": "cell-65a86398cff0c3ac",
     "locked": true,
     "points": 1,
     "schema_version": 3,
     "solution": false,
     "task": false
    },
    "papermill": {
     "duration": 0.021081,
     "end_time": "2023-11-16T13:32:03.169975",
     "exception": false,
     "start_time": "2023-11-16T13:32:03.148894",
     "status": "completed"
    },
    "tags": []
   },
   "outputs": [],
   "source": [
    "B = np.array([[1, 0],\n",
    "              [1, 1],\n",
    "              [1, 2]])\n",
    "\n",
    "assert_allclose(\n",
    "    projection_matrix(B), \n",
    "    np.array([[5,  2, -1],\n",
    "              [2,  2,  2],\n",
    "              [-1, 2,  5]]) / 6\n",
    ")\n"
   ]
  },
  {
   "cell_type": "markdown",
   "id": "c5e7e8bf",
   "metadata": {
    "papermill": {
     "duration": 0.010824,
     "end_time": "2023-11-16T13:32:03.192230",
     "exception": false,
     "start_time": "2023-11-16T13:32:03.181406",
     "status": "completed"
    },
    "tags": []
   },
   "source": [
    "### Compute principal component analysis\n",
    "\n",
    "Now that you have completed `normalize`, `eig` and `projection_matrix`, you are now ready to combine these functions to do PCA. Please do this function only after you have successfully implemented the previous three functions, as this function relies on them being correct. Even if you have implemented `PCA` correctly, you shall not get the score for this function if the previous three functions that you have implemented are incorrect. If you want, you can submit the notebook and make sure of their correctness.\n",
    "\n",
    "You can compute the covariance matrix $S$ as follows: $$S = \\frac{\\overline{\\mathbf{X}}^T \\overline{\\mathbf{X}}}{n}$$ where $\\overline{\\mathbf{X}}$ is the normalized dataset and $n$ is the number of datapoints."
   ]
  },
  {
   "cell_type": "code",
   "execution_count": 16,
   "id": "d17f43a9",
   "metadata": {
    "execution": {
     "iopub.execute_input": "2023-11-16T13:32:03.216496Z",
     "iopub.status.busy": "2023-11-16T13:32:03.215740Z",
     "iopub.status.idle": "2023-11-16T13:32:03.222698Z",
     "shell.execute_reply": "2023-11-16T13:32:03.221934Z"
    },
    "nbgrader": {
     "grade": false,
     "grade_id": "cell-98795bac9f7e1f82",
     "locked": false,
     "schema_version": 3,
     "solution": true,
     "task": false
    },
    "papermill": {
     "duration": 0.021734,
     "end_time": "2023-11-16T13:32:03.224852",
     "exception": false,
     "start_time": "2023-11-16T13:32:03.203118",
     "status": "completed"
    },
    "tags": []
   },
   "outputs": [],
   "source": [
    "def PCA(X, num_components):\n",
    "    \"\"\"\n",
    "    Args:\n",
    "        X: ndarray of size (N, D), where D is the dimension of the data,\n",
    "           and N is the number of datapoints\n",
    "        num_components: the number of principal components to use.\n",
    "    Returns:\n",
    "        the reconstructed data, the sample mean of the X, principal values\n",
    "        and principal components\n",
    "    \"\"\"\n",
    "\n",
    "    N, D = X.shape\n",
    "    X_normalized, mean = normalize(X)\n",
    "    S = np.cov(X_normalized, rowvar=False, bias=True)\n",
    "    eig_vals, eig_vecs = eig(S)\n",
    "    principal_vals = eig_vals[:num_components]\n",
    "    principal_components = eig_vecs[:, :num_components]\n",
    "\n",
    "    # Due to precision errors, the eigenvectors might come out to be complex, so only take their real parts\n",
    "    principal_components = np.real(principal_components)\n",
    "    # Reconstruct the data by projecting the normalized data on the basis spanned by the principal components\n",
    "    # Remember that the data points in X_normalized are arranged along the rows\n",
    "    # but while projecting, we need them to be arranged along the columns\n",
    "    # Notice that we have subtracted the mean from X so make sure that you add it back\n",
    "    # to the reconstructed data\n",
    "    P = projection_matrix(principal_components)\n",
    "    reconst = ((P@X_normalized.T).T )+ mean\n",
    "    return reconst, mean, principal_vals, principal_components"
   ]
  },
  {
   "cell_type": "markdown",
   "id": "0d584233",
   "metadata": {
    "papermill": {
     "duration": 0.010757,
     "end_time": "2023-11-16T13:32:03.246734",
     "exception": false,
     "start_time": "2023-11-16T13:32:03.235977",
     "status": "completed"
    },
    "tags": []
   },
   "source": [
    "You can use the code block below to incrementally test whether your function is working correctly. Uncomment the last line of the PCA function and run the code block to check if you have made a mistake."
   ]
  },
  {
   "cell_type": "code",
   "execution_count": 17,
   "id": "f34b0b8f",
   "metadata": {
    "execution": {
     "iopub.execute_input": "2023-11-16T13:32:03.271062Z",
     "iopub.status.busy": "2023-11-16T13:32:03.270347Z",
     "iopub.status.idle": "2023-11-16T13:32:03.284145Z",
     "shell.execute_reply": "2023-11-16T13:32:03.283083Z"
    },
    "papermill": {
     "duration": 0.028618,
     "end_time": "2023-11-16T13:32:03.286395",
     "exception": false,
     "start_time": "2023-11-16T13:32:03.257777",
     "status": "completed"
    },
    "tags": []
   },
   "outputs": [
    {
     "name": "stdout",
     "output_type": "stream",
     "text": [
      "Cheacking mean...\n",
      "Mean is computed correctly!\n",
      "Checking principal values...\n",
      "Principal Values are computed correctly!\n",
      "Checking principal components...\n",
      "Principal components are computed correctly!\n",
      "Checking reconstructed data...\n",
      "Reconstructed data is computed correctly!\n"
     ]
    }
   ],
   "source": [
    "X = np.array([[3, 6, 7],\n",
    "              [8, 9, 0],\n",
    "              [1, 5, 2]])\n",
    "\n",
    "reconst, mean, principal_vals, principal_components = PCA(X, 1)\n",
    "\n",
    "print('Cheacking mean...')\n",
    "mean_exp = np.array([4, 20 / 3, 3])\n",
    "np.testing.assert_allclose(mean, mean_exp, rtol=1e-5)\n",
    "print('Mean is computed correctly!')\n",
    "\n",
    "print('Checking principal values...')\n",
    "principal_vals_exp = np.array([15.39677773])\n",
    "np.testing.assert_allclose(principal_vals, principal_vals_exp, rtol=1e-5)\n",
    "print('Principal Values are computed correctly!')\n",
    "\n",
    "print('Checking principal components...')\n",
    "principal_components_exp = np.array([[-0.68811066],\n",
    "                                     [-0.40362611],\n",
    "                                     [ 0.60298398]])\n",
    "np.testing.assert_allclose(principal_components, principal_components_exp, rtol=1e-5)\n",
    "print(\"Principal components are computed correctly!\")\n",
    "\n",
    "print('Checking reconstructed data...')\n",
    "reconst_exp = np.array([[ 1.68166528,  5.30679755,  5.03153182],\n",
    "                        [ 7.7868029 ,  8.8878974 , -0.31833472],\n",
    "                        [ 2.53153182,  5.80530505,  4.2868029 ]])\n",
    "np.testing.assert_allclose(reconst, reconst_exp, rtol=1e-5)\n",
    "print(\"Reconstructed data is computed correctly!\")"
   ]
  },
  {
   "cell_type": "code",
   "execution_count": 18,
   "id": "a0b3691c",
   "metadata": {
    "execution": {
     "iopub.execute_input": "2023-11-16T13:32:03.311051Z",
     "iopub.status.busy": "2023-11-16T13:32:03.310320Z",
     "iopub.status.idle": "2023-11-16T13:32:03.315924Z",
     "shell.execute_reply": "2023-11-16T13:32:03.315211Z"
    },
    "papermill": {
     "duration": 0.020433,
     "end_time": "2023-11-16T13:32:03.318066",
     "exception": false,
     "start_time": "2023-11-16T13:32:03.297633",
     "status": "completed"
    },
    "tags": []
   },
   "outputs": [],
   "source": [
    "def draw_vector(v0, v1, ax=None, label=None):\n",
    "    \"\"\"Draw a vector from v0 to v1.\"\"\"\n",
    "    ax = ax or plt.gca()\n",
    "    arrowprops=dict(arrowstyle='->',\n",
    "                    linewidth=2,\n",
    "                    shrinkA=0, shrinkB=0, \n",
    "                    color='k')\n",
    "    ax.annotate('', v1, v0, arrowprops=arrowprops, label=label)"
   ]
  },
  {
   "cell_type": "markdown",
   "id": "17961a47",
   "metadata": {
    "papermill": {
     "duration": 0.010973,
     "end_time": "2023-11-16T13:32:03.340372",
     "exception": false,
     "start_time": "2023-11-16T13:32:03.329399",
     "status": "completed"
    },
    "tags": []
   },
   "source": [
    "Some test cases that check the implementation of PCA"
   ]
  },
  {
   "cell_type": "code",
   "execution_count": 19,
   "id": "ce92a583",
   "metadata": {
    "execution": {
     "iopub.execute_input": "2023-11-16T13:32:03.365248Z",
     "iopub.status.busy": "2023-11-16T13:32:03.364862Z",
     "iopub.status.idle": "2023-11-16T13:32:03.386888Z",
     "shell.execute_reply": "2023-11-16T13:32:03.386074Z"
    },
    "nbgrader": {
     "grade": true,
     "grade_id": "cell-90d1f11031fdf7d8",
     "locked": true,
     "points": 0,
     "schema_version": 3,
     "solution": false,
     "task": false
    },
    "papermill": {
     "duration": 0.037131,
     "end_time": "2023-11-16T13:32:03.389327",
     "exception": false,
     "start_time": "2023-11-16T13:32:03.352196",
     "status": "completed"
    },
    "tags": []
   },
   "outputs": [],
   "source": [
    "D = 2\n",
    "N = 10\n",
    "# Generate a dataset X from a 2D Gaussian distribution\n",
    "mvn = scipy.stats.multivariate_normal(\n",
    "    mean=np.ones(D, dtype=np.float64), \n",
    "    cov=np.array([[1, 0.8], [0.8, 1]], dtype=np.float64)\n",
    ")\n",
    "\n",
    "X = mvn.rvs((N,), random_state=np.random.RandomState(0))\n",
    "reconst, m, pv, pc = PCA(X, 1)\n",
    "# Check the shape returned by the PCA implementation matches the specification.\n",
    "assert reconst.shape == X.shape\n",
    "assert m.shape == (D, )\n",
    "assert pv.shape == (1, )\n",
    "assert pc.shape == (D, 1)\n",
    "\n",
    "# Check that PCA with num_components == D gives identical reconstruction\n",
    "reconst, m, pv, pc = PCA(X, D)\n",
    "assert reconst.shape == X.shape\n",
    "assert m.shape == (D, )\n",
    "assert pv.shape == (2, )\n",
    "assert pc.shape == (D, 2)\n",
    "assert_allclose(reconst, X)\n"
   ]
  },
  {
   "cell_type": "markdown",
   "id": "2954635f",
   "metadata": {
    "papermill": {
     "duration": 0.011279,
     "end_time": "2023-11-16T13:32:03.411813",
     "exception": false,
     "start_time": "2023-11-16T13:32:03.400534",
     "status": "completed"
    },
    "tags": []
   },
   "source": [
    "## Visualize PCA\n",
    "We will first visualize what PCA does on a 2D toy dataset. You can use the visualization below to get better intuition about what PCA does and use it to double check your code above."
   ]
  },
  {
   "cell_type": "code",
   "execution_count": 20,
   "id": "b8ca9d66",
   "metadata": {
    "execution": {
     "iopub.execute_input": "2023-11-16T13:32:03.436162Z",
     "iopub.status.busy": "2023-11-16T13:32:03.435803Z",
     "iopub.status.idle": "2023-11-16T13:32:03.797460Z",
     "shell.execute_reply": "2023-11-16T13:32:03.796415Z"
    },
    "papermill": {
     "duration": 0.376793,
     "end_time": "2023-11-16T13:32:03.799933",
     "exception": false,
     "start_time": "2023-11-16T13:32:03.423140",
     "status": "completed"
    },
    "tags": []
   },
   "outputs": [
    {
     "data": {
      "image/png": "[encoded data removed]",
      "text/plain": [
       "<Figure size 600x600 with 1 Axes>"
      ]
     },
     "metadata": {},
     "output_type": "display_data"
    }
   ],
   "source": [
    "# This code generates two dimensional points with mean (1, 1) and a covariance of 0.8 between the x and y coordinates\n",
    "# Feel free to change these values to generate different distributions\n",
    "mvn = scipy.stats.multivariate_normal(\n",
    "    mean=np.array([1, 1]), \n",
    "    cov=np.array([[1, 0.8], [0.8, 1]])\n",
    ")\n",
    "\n",
    "# X contains 100 points generated according to the above criteria\n",
    "X = mvn.rvs((100,), random_state=np.random.RandomState(0))\n",
    "\n",
    "num_components = 1\n",
    "X_reconst, mean, principal_values, principal_components = PCA(X, num_components)\n",
    "\n",
    "# We shall plot the points that we have generated below\n",
    "# You do not need to modify this code\n",
    "fig, ax = plt.subplots(figsize=(6, 6))\n",
    "ax.scatter(X[:, 0], X[:, 1], label='data')\n",
    "plt.axis('equal')\n",
    "plt.legend()\n",
    "ax.set(xlabel='$\\mathbf{x}_0$', ylabel='$\\mathbf{x}_1$')\n",
    "plt.show()"
   ]
  },
  {
   "cell_type": "markdown",
   "id": "34356074",
   "metadata": {
    "papermill": {
     "duration": 0.01193,
     "end_time": "2023-11-16T13:32:03.823996",
     "exception": false,
     "start_time": "2023-11-16T13:32:03.812066",
     "status": "completed"
    },
    "tags": []
   },
   "source": [
    "We shall now perform PCA on this data and plot the reconstructed points and the direction of the principal component. Can you guess the axis where the reconstructed points should lie?"
   ]
  },
  {
   "cell_type": "code",
   "execution_count": 21,
   "id": "7ecea84d",
   "metadata": {
    "execution": {
     "iopub.execute_input": "2023-11-16T13:32:03.849494Z",
     "iopub.status.busy": "2023-11-16T13:32:03.848884Z",
     "iopub.status.idle": "2023-11-16T13:32:04.150410Z",
     "shell.execute_reply": "2023-11-16T13:32:04.149603Z"
    },
    "papermill": {
     "duration": 0.316675,
     "end_time": "2023-11-16T13:32:04.152439",
     "exception": false,
     "start_time": "2023-11-16T13:32:03.835764",
     "status": "completed"
    },
    "tags": []
   },
   "outputs": [
    {
     "data": {
      "image/png": "[encoded data removed]",
      "text/plain": [
       "<Figure size 600x600 with 1 Axes>"
      ]
     },
     "metadata": {},
     "output_type": "display_data"
    }
   ],
   "source": [
    "# The code below plots the original points, the reconstructed points and the principal component veector\n",
    "fig, ax = plt.subplots(figsize=(6, 6))\n",
    "ax.scatter(X[:, 0], X[:, 1], label='data')\n",
    "for (princial_variance, principal_component) in (zip(principal_values, principal_components.T)):\n",
    "    draw_vector(\n",
    "        mean, mean + np.sqrt(princial_variance) * principal_component, \n",
    "        ax=ax)\n",
    "ax.scatter(X_reconst[:, 0], X_reconst[:, 1], label='reconstructed')\n",
    "plt.axis('equal')\n",
    "plt.legend()\n",
    "ax.set(xlabel='$\\mathbf{x}_0$', ylabel='$\\mathbf{x}_1$')\n",
    "plt.show()"
   ]
  },
  {
   "cell_type": "markdown",
   "id": "92aa13b0",
   "metadata": {
    "papermill": {
     "duration": 0.012024,
     "end_time": "2023-11-16T13:32:04.176876",
     "exception": false,
     "start_time": "2023-11-16T13:32:04.164852",
     "status": "completed"
    },
    "tags": []
   },
   "source": [
    "We can also compare our PCA implementation with the implementation in scikit-learn (a popular machine learning library in Python that includes implementation of PCA) to see if we get similar results. Note that even if your implementation is correct, the answer your code gives and the answer scikit-learn gives may not be absolutely identical because floating point operations are never exact and always truncated. That is why we allow for a margin of error in the comparison."
   ]
  },
  {
   "cell_type": "code",
   "execution_count": 22,
   "id": "60eefb64",
   "metadata": {
    "execution": {
     "iopub.execute_input": "2023-11-16T13:32:04.203714Z",
     "iopub.status.busy": "2023-11-16T13:32:04.203085Z",
     "iopub.status.idle": "2023-11-16T13:32:04.589016Z",
     "shell.execute_reply": "2023-11-16T13:32:04.587897Z"
    },
    "papermill": {
     "duration": 0.402535,
     "end_time": "2023-11-16T13:32:04.591869",
     "exception": false,
     "start_time": "2023-11-16T13:32:04.189334",
     "status": "completed"
    },
    "tags": []
   },
   "outputs": [
    {
     "name": "stdout",
     "output_type": "stream",
     "text": [
      "difference in reconstruction for num_components = 1: 6.321884301750546e-29\n",
      "difference in reconstruction for num_components = 2: 3.155251220482603e-27\n",
      "difference in reconstruction for num_components = 3: 5.960464288386837e-29\n"
     ]
    }
   ],
   "source": [
    "random = np.random.RandomState(0)\n",
    "X = random.randn(10, 5)\n",
    "\n",
    "from sklearn.decomposition import PCA as SKPCA\n",
    "\n",
    "for num_component in range(1, 4):\n",
    "    # We can compute a standard solution given by scikit-learn's implementation of PCA\n",
    "    pca = SKPCA(n_components=num_component, svd_solver=\"full\")\n",
    "    sklearn_reconst = pca.inverse_transform(pca.fit_transform(X))\n",
    "    reconst, _, _, _ = PCA(X, num_component)\n",
    "    # The difference in the result should be very small (<10^-20)\n",
    "    print(\n",
    "        \"difference in reconstruction for num_components = {}: {}\".format(\n",
    "            num_component, np.square(reconst - sklearn_reconst).sum()\n",
    "        )\n",
    "    )\n",
    "    np.testing.assert_allclose(reconst, sklearn_reconst)"
   ]
  },
  {
   "cell_type": "markdown",
   "id": "68c63598",
   "metadata": {
    "papermill": {
     "duration": 0.022138,
     "end_time": "2023-11-16T13:32:04.635479",
     "exception": false,
     "start_time": "2023-11-16T13:32:04.613341",
     "status": "completed"
    },
    "tags": []
   },
   "source": [
    "## PCA for MNIST digits\n",
    "\n",
    "Once you have implemented PCA correctly, it's time to apply to the MNIST dataset. Each image in the dataset has a size of 28*28 pixels and thus has a dimensionality of 784. First, we will do some preprocessing of the data to get it into a good shape."
   ]
  },
  {
   "cell_type": "code",
   "execution_count": 23,
   "id": "82ecdee8",
   "metadata": {
    "execution": {
     "iopub.execute_input": "2023-11-16T13:32:04.679992Z",
     "iopub.status.busy": "2023-11-16T13:32:04.678972Z",
     "iopub.status.idle": "2023-11-16T13:32:04.691383Z",
     "shell.execute_reply": "2023-11-16T13:32:04.690231Z"
    },
    "nbgrader": {
     "grade": false,
     "grade_id": "cell-55fb94072c74b006",
     "locked": true,
     "schema_version": 3,
     "solution": false,
     "task": false
    },
    "papermill": {
     "duration": 0.038119,
     "end_time": "2023-11-16T13:32:04.694530",
     "exception": false,
     "start_time": "2023-11-16T13:32:04.656411",
     "status": "completed"
    },
    "tags": []
   },
   "outputs": [],
   "source": [
    "## Some preprocessing of the data\n",
    "NUM_DATAPOINTS = 1000\n",
    "X = (images.reshape(-1, 28 * 28)[:NUM_DATAPOINTS]) / 255."
   ]
  },
  {
   "cell_type": "markdown",
   "id": "1b0be02a",
   "metadata": {
    "papermill": {
     "duration": 0.013346,
     "end_time": "2023-11-16T13:32:04.725252",
     "exception": false,
     "start_time": "2023-11-16T13:32:04.711906",
     "status": "completed"
    },
    "tags": []
   },
   "source": [
    "Next, we shall perform PCA on the images and display the original images and the reconstructed images below the original ones. We are currenly using 10 principal components, but we encourage you to change this and see how the reconstructed images differ for different number of components as well. In particular, how good is the reconstruction on using just one or two components? Also, are all the 784 components necessary to get a reconstruction which is pretty much the same as the original image?"
   ]
  },
  {
   "cell_type": "code",
   "execution_count": 24,
   "id": "fc989cb9",
   "metadata": {
    "execution": {
     "iopub.execute_input": "2023-11-16T13:32:04.752560Z",
     "iopub.status.busy": "2023-11-16T13:32:04.751824Z",
     "iopub.status.idle": "2023-11-16T13:32:05.540346Z",
     "shell.execute_reply": "2023-11-16T13:32:05.539502Z"
    },
    "papermill": {
     "duration": 0.804483,
     "end_time": "2023-11-16T13:32:05.542243",
     "exception": false,
     "start_time": "2023-11-16T13:32:04.737760",
     "status": "completed"
    },
    "tags": []
   },
   "outputs": [
    {
     "data": {
      "image/png": "[encoded data removed]",
      "text/plain": [
       "<Figure size 3000x300 with 2 Axes>"
      ]
     },
     "metadata": {},
     "output_type": "display_data"
    }
   ],
   "source": [
    "reconst, _, _, _ = PCA(X, num_components=10)\n",
    "num_images_to_show = 10\n",
    "reconst_images = np.reshape(reconst[:num_images_to_show], (-1, 28, 28))\n",
    "fig, ax = plt.subplots(2, 1, figsize=(num_images_to_show * 3, 3))\n",
    "ax[0].imshow(np.concatenate(np.reshape(X[:num_images_to_show], (-1, 28, 28)), -1), cmap=\"gray\")\n",
    "ax[1].imshow(np.concatenate(reconst_images, -1), cmap=\"gray\");"
   ]
  },
  {
   "cell_type": "markdown",
   "id": "d1f07f01",
   "metadata": {
    "papermill": {
     "duration": 0.012696,
     "end_time": "2023-11-16T13:32:05.567906",
     "exception": false,
     "start_time": "2023-11-16T13:32:05.555210",
     "status": "completed"
    },
    "tags": []
   },
   "source": [
    "The greater number of of principal components we use, the smaller will our reconstruction\n",
    "error be. Now, let's answer the following question: \n",
    "\n",
    "\n",
    "> How many principal components do we need in order to reach a Mean Squared Error (MSE) of less than $10.0$ for our dataset?\n",
    "\n",
    "Remember that MSE is a measure of the loss of data during reconstruction. Basically it is the mean of the squared distances of the reconstructed data points from the original datapoints.\n",
    "\n"
   ]
  },
  {
   "cell_type": "markdown",
   "id": "5d432290",
   "metadata": {
    "papermill": {
     "duration": 0.012815,
     "end_time": "2023-11-16T13:32:05.593864",
     "exception": false,
     "start_time": "2023-11-16T13:32:05.581049",
     "status": "completed"
    },
    "tags": []
   },
   "source": [
    "We have provided a function in the next cell which computes the mean squared error (MSE), which will be useful for answering the question above."
   ]
  },
  {
   "cell_type": "code",
   "execution_count": 25,
   "id": "1101a331",
   "metadata": {
    "execution": {
     "iopub.execute_input": "2023-11-16T13:32:05.623084Z",
     "iopub.status.busy": "2023-11-16T13:32:05.622384Z",
     "iopub.status.idle": "2023-11-16T13:32:05.626956Z",
     "shell.execute_reply": "2023-11-16T13:32:05.626218Z"
    },
    "papermill": {
     "duration": 0.022206,
     "end_time": "2023-11-16T13:32:05.629132",
     "exception": false,
     "start_time": "2023-11-16T13:32:05.606926",
     "status": "completed"
    },
    "tags": []
   },
   "outputs": [],
   "source": [
    "def mse(predict, actual):\n",
    "    \"\"\"Helper function for computing the mean squared error (MSE)\"\"\"\n",
    "    return np.square(predict - actual).sum(axis=1).mean()"
   ]
  },
  {
   "cell_type": "code",
   "execution_count": 26,
   "id": "38d1fdc7",
   "metadata": {
    "execution": {
     "iopub.execute_input": "2023-11-16T13:32:05.657688Z",
     "iopub.status.busy": "2023-11-16T13:32:05.657297Z",
     "iopub.status.idle": "2023-11-16T13:32:14.128592Z",
     "shell.execute_reply": "2023-11-16T13:32:14.127551Z"
    },
    "papermill": {
     "duration": 8.488774,
     "end_time": "2023-11-16T13:32:14.131305",
     "exception": false,
     "start_time": "2023-11-16T13:32:05.642531",
     "status": "completed"
    },
    "tags": []
   },
   "outputs": [],
   "source": [
    "loss = []\n",
    "reconstructions = []\n",
    "# iterate over different number of principal components, and compute the MSE\n",
    "for num_component in range(1, 100, 5):\n",
    "    reconst, _, _, _ = PCA(X, num_component)\n",
    "    error = mse(reconst, X)\n",
    "    reconstructions.append(reconst)\n",
    "    # print('n = {:d}, reconstruction_error = {:f}'.format(num_component, error))\n",
    "    loss.append((num_component, error))\n",
    "\n",
    "reconstructions = np.asarray(reconstructions)\n",
    "reconstructions = reconstructions\n",
    "loss = np.asarray(loss)"
   ]
  },
  {
   "cell_type": "code",
   "execution_count": 27,
   "id": "1f1aee04",
   "metadata": {
    "execution": {
     "iopub.execute_input": "2023-11-16T13:32:14.159678Z",
     "iopub.status.busy": "2023-11-16T13:32:14.159258Z",
     "iopub.status.idle": "2023-11-16T13:32:14.561062Z",
     "shell.execute_reply": "2023-11-16T13:32:14.560076Z"
    },
    "papermill": {
     "duration": 0.418458,
     "end_time": "2023-11-16T13:32:14.563392",
     "exception": false,
     "start_time": "2023-11-16T13:32:14.144934",
     "status": "completed"
    },
    "tags": []
   },
   "outputs": [
    {
     "data": {
      "text/html": [
       "<div>\n",
       "<style scoped>\n",
       "    .dataframe tbody tr th:only-of-type {\n",
       "        vertical-align: middle;\n",
       "    }\n",
       "\n",
       "    .dataframe tbody tr th {\n",
       "        vertical-align: top;\n",
       "    }\n",
       "\n",
       "    .dataframe thead th {\n",
       "        text-align: right;\n",
       "    }\n",
       "</style>\n",
       "<table border=\"1\" class=\"dataframe\">\n",
       "  <thead>\n",
       "    <tr style=\"text-align: right;\">\n",
       "      <th></th>\n",
       "      <th>no. of components</th>\n",
       "      <th>mse</th>\n",
       "    </tr>\n",
       "  </thead>\n",
       "  <tbody>\n",
       "    <tr>\n",
       "      <th>0</th>\n",
       "      <td>1.0</td>\n",
       "      <td>40.618882</td>\n",
       "    </tr>\n",
       "    <tr>\n",
       "      <th>1</th>\n",
       "      <td>6.0</td>\n",
       "      <td>23.198508</td>\n",
       "    </tr>\n",
       "    <tr>\n",
       "      <th>2</th>\n",
       "      <td>11.0</td>\n",
       "      <td>16.899711</td>\n",
       "    </tr>\n",
       "    <tr>\n",
       "      <th>3</th>\n",
       "      <td>16.0</td>\n",
       "      <td>13.367106</td>\n",
       "    </tr>\n",
       "    <tr>\n",
       "      <th>4</th>\n",
       "      <td>21.0</td>\n",
       "      <td>11.072143</td>\n",
       "    </tr>\n",
       "  </tbody>\n",
       "</table>\n",
       "</div>"
      ],
      "text/plain": [
       "   no. of components        mse\n",
       "0                1.0  40.618882\n",
       "1                6.0  23.198508\n",
       "2               11.0  16.899711\n",
       "3               16.0  13.367106\n",
       "4               21.0  11.072143"
      ]
     },
     "execution_count": 27,
     "metadata": {},
     "output_type": "execute_result"
    }
   ],
   "source": [
    "import pandas as pd\n",
    "# create a table showing the number of principal components and MSE\n",
    "pd.DataFrame(loss, columns=['no. of components', 'mse']).head()"
   ]
  },
  {
   "cell_type": "markdown",
   "id": "32889ce6",
   "metadata": {
    "papermill": {
     "duration": 0.012937,
     "end_time": "2023-11-16T13:32:14.590247",
     "exception": false,
     "start_time": "2023-11-16T13:32:14.577310",
     "status": "completed"
    },
    "tags": []
   },
   "source": [
    "We can also put these numbers into perspective by plotting them."
   ]
  },
  {
   "cell_type": "code",
   "execution_count": 28,
   "id": "1d2694e2",
   "metadata": {
    "execution": {
     "iopub.execute_input": "2023-11-16T13:32:14.618418Z",
     "iopub.status.busy": "2023-11-16T13:32:14.617842Z",
     "iopub.status.idle": "2023-11-16T13:32:15.012936Z",
     "shell.execute_reply": "2023-11-16T13:32:15.011933Z"
    },
    "papermill": {
     "duration": 0.411791,
     "end_time": "2023-11-16T13:32:15.015145",
     "exception": false,
     "start_time": "2023-11-16T13:32:14.603354",
     "status": "completed"
    },
    "tags": []
   },
   "outputs": [
    {
     "data": {
      "image/png": "[encoded data removed]",
      "text/plain": [
       "<Figure size 640x480 with 1 Axes>"
      ]
     },
     "metadata": {},
     "output_type": "display_data"
    }
   ],
   "source": [
    "fig, ax = plt.subplots()\n",
    "ax.plot(loss[:,0], loss[:,1]);\n",
    "ax.axhline(10, linestyle='--', color='r', linewidth=2)\n",
    "ax.xaxis.set_ticks(np.arange(1, 100, 5));\n",
    "ax.set(xlabel='num_components', ylabel='MSE', title='MSE vs number of principal components');"
   ]
  },
  {
   "cell_type": "markdown",
   "id": "cbde5b2a",
   "metadata": {
    "papermill": {
     "duration": 0.013411,
     "end_time": "2023-11-16T13:32:15.042329",
     "exception": false,
     "start_time": "2023-11-16T13:32:15.028918",
     "status": "completed"
    },
    "tags": []
   },
   "source": [
    "But _numbers don't tell us everything!_ Just what does it mean _qualitatively_ for the loss to decrease from around\n",
    "$45.0$ to less than $10.0$?\n",
    "\n",
    "Let's find out! In the next cell, we draw the the leftmost image is the original digit. Then we show the reconstruction of the image on the right, in descending number of principal components used."
   ]
  },
  {
   "cell_type": "code",
   "execution_count": 29,
   "id": "6c5c8c0b",
   "metadata": {
    "execution": {
     "iopub.execute_input": "2023-11-16T13:32:15.072078Z",
     "iopub.status.busy": "2023-11-16T13:32:15.071687Z",
     "iopub.status.idle": "2023-11-16T13:32:15.342893Z",
     "shell.execute_reply": "2023-11-16T13:32:15.341537Z"
    },
    "papermill": {
     "duration": 0.288994,
     "end_time": "2023-11-16T13:32:15.345025",
     "exception": false,
     "start_time": "2023-11-16T13:32:15.056031",
     "status": "completed"
    },
    "tags": []
   },
   "outputs": [],
   "source": [
    "@interact(image_idx=(0, 1000))\n",
    "def show_num_components_reconst(image_idx):\n",
    "    fig, ax = plt.subplots(figsize=(20., 20.))\n",
    "    actual = X[image_idx]\n",
    "    # concatenate the actual and reconstructed images as large image before plotting it\n",
    "    x = np.concatenate([actual[np.newaxis, :], reconstructions[:, image_idx]])\n",
    "    ax.imshow(np.hstack(x.reshape(-1, 28, 28)[np.arange(10)]),\n",
    "              cmap='gray');\n",
    "    ax.axvline(28, color='orange', linewidth=2)"
   ]
  },
  {
   "cell_type": "markdown",
   "id": "a4ba412b",
   "metadata": {
    "papermill": {
     "duration": 0.014016,
     "end_time": "2023-11-16T13:32:15.374477",
     "exception": false,
     "start_time": "2023-11-16T13:32:15.360461",
     "status": "completed"
    },
    "tags": []
   },
   "source": [
    "We can also browse through the reconstructions for other digits. Once again, `interact` becomes handy for visualing the reconstruction."
   ]
  },
  {
   "cell_type": "code",
   "execution_count": null,
   "id": "82edca00",
   "metadata": {
    "execution": {
     "iopub.execute_input": "2023-11-16T13:32:15.405411Z",
     "iopub.status.busy": "2023-11-16T13:32:15.404543Z",
     "iopub.status.idle": "2023-11-16T13:32:15.589524Z",
     "shell.execute_reply": "2023-11-16T13:32:15.588237Z"
    },
    "papermill": {
     "duration": 0.202823,
     "end_time": "2023-11-16T13:32:15.591581",
     "exception": false,
     "start_time": "2023-11-16T13:32:15.388758",
     "status": "completed"
    },
    "tags": []
   },
   "outputs": [
    {
     "data": {
      "application/vnd.jupyter.widget-view+json": {
       "model_id": "00a9354ce80046f4b03d7b85a61bd481",
       "version_major": 2,
       "version_minor": 0
      },
      "text/plain": [
       "interactive(children=(IntSlider(value=1, description='i', max=10), Output()), _dom_classes=('widget-interact',…"
      ]
     },
     "metadata": {},
     "output_type": "display_data"
    }
   ],
   "source": [
    "@interact(i=(0, 10))\n",
    "def show_pca_digits(i=1):\n",
    "    \"\"\"Show the i th digit and its reconstruction\"\"\"\n",
    "    plt.figure(figsize=(4,4))\n",
    "    actual_sample = X[i].reshape(28,28)\n",
    "    reconst_sample = (reconst[i, :]).reshape(28, 28)\n",
    "    plt.imshow(np.hstack([actual_sample, reconst_sample]), cmap='gray')\n",
    "    plt.grid(False)\n",
    "    plt.show()"
   ]
  },
  {
   "cell_type": "markdown",
   "id": "cdeb2201",
   "metadata": {
    "papermill": {
     "duration": 0.01472,
     "end_time": "2023-11-16T13:32:15.621428",
     "exception": false,
     "start_time": "2023-11-16T13:32:15.606708",
     "status": "completed"
    },
    "tags": []
   },
   "source": [
    "## PCA for high-dimensional datasets\n",
    "\n",
    "Sometimes, the dimensionality of our dataset may be larger than the number of samples we\n",
    "have. Then it might be inefficient to perform PCA with your implementation above. Instead,\n",
    "as mentioned in the lectures, you can implement PCA in a more efficient manner, which we\n",
    "call \"PCA for high dimensional data\" (PCA_high_dim).\n",
    "\n",
    "Below are the steps for performing PCA for high dimensional dataset\n",
    "1. Normalize the dataset matrix $X$ to obtain $\\overline{X}$ that has zero mean.\n",
    "2. Compute the matrix $\\overline{X}\\overline{X}^T$ (a $N$ by $N$ matrix with $N << D$)\n",
    "3. Compute eigenvalues $\\lambda$s and eigenvectors $V$ for $\\overline{X}\\overline{X}^T$ with shape (N, N). Compare this with computing the eigenspectrum of $\\overline{X}^T\\overline{X}$ which has shape (D, D), when $N << D$, computation of the eigenspectrum of $\\overline{X}\\overline{X}^T$ will be computationally less expensive.\n",
    "4. Compute the eigenvectors for the original covariance matrix as $\\overline{X}^TV$. Choose the eigenvectors associated with the `n` largest eigenvalues to be the basis of the principal subspace $U$.\n",
    "    1. Notice that $\\overline{X}^TV$ would give a matrix of shape (D, N) but the eigenvectors beyond the Dth column will have eigenvalues of 0, so it is safe to drop any columns beyond the D'th dimension. \n",
    "    2. Also note that the columns of $U$ will not be unit-length if we pre-multiply $V$ with $\\overline{X}^T$, so we will have to normalize the columns of $U$ so that they have unit-length to be consistent with the `PCA` implementation above.\n",
    "5. Compute the orthogonal projection of the data onto the subspace spanned by columns of $U$. \n",
    "\n",
    "Functions you wrote for earlier assignments will be useful."
   ]
  },
  {
   "cell_type": "code",
   "execution_count": null,
   "id": "165c3af2",
   "metadata": {
    "execution": {
     "iopub.execute_input": "2023-11-16T13:32:15.652030Z",
     "iopub.status.busy": "2023-11-16T13:32:15.651632Z",
     "iopub.status.idle": "2023-11-16T13:32:15.658887Z",
     "shell.execute_reply": "2023-11-16T13:32:15.657779Z"
    },
    "nbgrader": {
     "grade": false,
     "grade_id": "cell-6b8c115e4c40bd67",
     "locked": false,
     "schema_version": 3,
     "solution": true,
     "task": false
    },
    "papermill": {
     "duration": 0.025122,
     "end_time": "2023-11-16T13:32:15.661022",
     "exception": false,
     "start_time": "2023-11-16T13:32:15.635900",
     "status": "completed"
    },
    "tags": []
   },
   "outputs": [],
   "source": [
    "def PCA_high_dim(X, num_components):\n",
    "    \"\"\"Compute PCA for small sample size but high-dimensional features. \n",
    "    Args:\n",
    "        X: ndarray of size (N, D), where D is the dimension of the sample,\n",
    "           and N is the number of samples\n",
    "        num_components: the number of principal components to use.\n",
    "    Returns:\n",
    "        X_reconstruct: (N, D) ndarray. the reconstruction\n",
    "        of X from the first `num_components` pricipal components.\n",
    "    \"\"\"\n",
    "    N, D = X.shape\n",
    "    # Normalize the dataset\n",
    "    X_normalized, mean = normalize(X)\n",
    "    # Find the covariance matrix\n",
    "    M = np.dot(X_normalized, X_normalized.T) / N\n",
    "\n",
    "    # Next find eigenvalues and corresponding eigenvectors for S\n",
    "    # Make sure that you only take the first D eigenvalues/vectors\n",
    "    # You can also take a look at the eigenvalues beyond column (D-1) and they should be \n",
    "    # zero (or a very small number due to finite floating point precision)\n",
    "    eig_vals, eig_vecs = eig(M)\n",
    "\n",
    "    # Compute the eigenvalues and eigenvectors for the original system\n",
    "    # eig_vecs = None\n",
    "    \n",
    "    # Normalize the eigenvectors to have unit-length\n",
    "    # Take the top `num_components` of the eigenvalues / eigenvectors\n",
    "    # as the principal values and principal components\n",
    "    principal_values = eig_vals[:num_components]\n",
    "    principal_components = eig_vecs[:, :num_components]\n",
    "\n",
    "    # Due to precision errors, the eigenvectors might come out to be complex, so only take their real parts\n",
    "    principal_components = np.real(principal_components)\n",
    "\n",
    "    # reconstruct the images from the lower dimensional representation\n",
    "    # Remember to add back the sample mean\n",
    "    reconst = (projection_matrix(principal_components)@ X_normalized) + mean \n",
    "    return reconst, mean, principal_values, principal_components"
   ]
  },
  {
   "cell_type": "markdown",
   "id": "094ca9a9",
   "metadata": {
    "papermill": {
     "duration": 0.013875,
     "end_time": "2023-11-16T13:32:15.689240",
     "exception": false,
     "start_time": "2023-11-16T13:32:15.675365",
     "status": "completed"
    },
    "tags": []
   },
   "source": [
    "Given the same dataset, `PCA_high_dim` and `PCA` should give the same output. \n",
    "Assuming we have implemented `PCA`, correctly, we can then use `PCA` to test the correctness\n",
    "of `PCA_high_dim`. Given the same dataset, `PCA` and `PCA_high_dim` should give identical results.\n",
    "\n",
    "We can use this __invariant__\n",
    "to test our implementation of PCA_high_dim, assuming that we have correctly implemented `PCA`."
   ]
  },
  {
   "cell_type": "code",
   "execution_count": null,
   "id": "69bf8a2d",
   "metadata": {
    "execution": {
     "iopub.execute_input": "2023-11-16T13:32:15.719640Z",
     "iopub.status.busy": "2023-11-16T13:32:15.719209Z",
     "iopub.status.idle": "2023-11-16T13:32:15.729369Z",
     "shell.execute_reply": "2023-11-16T13:32:15.728224Z"
    },
    "nbgrader": {
     "grade": true,
     "grade_id": "cell-e1f35e6bd20a7b6a",
     "locked": true,
     "points": 1,
     "schema_version": 3,
     "solution": false,
     "task": false
    },
    "papermill": {
     "duration": 0.028048,
     "end_time": "2023-11-16T13:32:15.731655",
     "exception": false,
     "start_time": "2023-11-16T13:32:15.703607",
     "status": "completed"
    },
    "tags": []
   },
   "outputs": [],
   "source": [
    "random = np.random.RandomState(0)\n",
    "# Generate some random data\n",
    "X = random.randn(5, 4)\n",
    "pca_rec, pca_mean, pca_pvs, pca_pcs = PCA(X, 2)\n",
    "pca_hd_rec, pca_hd_mean, pca_hd_pvs, pca_hd_pcs = PCA_high_dim(X, 2)\n",
    "# Check that the results returned by PCA and PCA_high_dim are identical\n",
    "np.testing.assert_allclose(pca_rec, pca_hd_rec)\n",
    "np.testing.assert_allclose(pca_mean, pca_hd_mean)\n",
    "np.testing.assert_allclose(pca_pvs, pca_pvs)\n",
    "np.testing.assert_allclose(pca_pcs, pca_pcs)"
   ]
  },
  {
   "cell_type": "markdown",
   "id": "f6bbb90a",
   "metadata": {
    "papermill": {
     "duration": 0.014742,
     "end_time": "2023-11-16T13:32:15.761082",
     "exception": false,
     "start_time": "2023-11-16T13:32:15.746340",
     "status": "completed"
    },
    "tags": []
   },
   "source": [
    "_Congratulations_! You have now learned how PCA works!"
   ]
  }
 ],
 "metadata": {
  "coursera": {
   "course_slug": "mathematics-machine-learning-pca",
   "graded_item_id": "CXC11",
   "launcher_item_id": "ub5A7"
  },
  "interpreter": {
   "hash": "fa15421863e696996c586a7125639c86e606c31109b5cdd4c487ad3c1cbbc756"
  },
  "kaggle": {
   "accelerator": "none",
   "dataSources": [
    {
     "datasetId": 4012314,
     "sourceId": 6981703,
     "sourceType": "datasetVersion"
    }
   ],
   "dockerImageVersionId": 30587,
   "isGpuEnabled": false,
   "isInternetEnabled": true,
   "language": "python",
   "sourceType": "notebook"
  },
  "kernelspec": {
   "display_name": "Python 3",
   "language": "python",
   "name": "python3"
  },
  "language_info": {
   "codemirror_mode": {
    "name": "ipython",
    "version": 3
   },
   "file_extension": ".py",
   "mimetype": "text/x-python",
   "name": "python",
   "nbconvert_exporter": "python",
   "pygments_lexer": "ipython3",
   "version": "3.10.4"
  },
  "papermill": {
   "default_parameters": {},
   "duration": 18.573952,
   "end_time": "2023-11-16T13:32:16.400345",
   "environment_variables": {},
   "exception": null,
   "input_path": "__notebook__.ipynb",
   "output_path": "__notebook__.ipynb",
   "parameters": {},
   "start_time": "2023-11-16T13:31:57.826393",
   "version": "2.4.0"
  },
  "toc": {
   "base_numbering": 1,
   "nav_menu": {},
   "number_sections": true,
   "sideBar": true,
   "skip_h1_title": true,
   "title_cell": "Table of Contents",
   "title_sidebar": "Contents",
   "toc_cell": false,
   "toc_position": {
    "height": "calc(100% - 180px)",
    "left": "10px",
    "top": "150px",
    "width": "169px"
   },
   "toc_section_display": true,
   "toc_window_display": true
  },
  "widgets": {
   "application/vnd.jupyter.widget-state+json": {
    "state": {
     "00a9354ce80046f4b03d7b85a61bd481": {
      "model_module": "@jupyter-widgets/controls",
      "model_module_version": "1.5.0",
      "model_name": "VBoxModel",
      "state": {
       "_dom_classes": [
        "widget-interact"
       ],
       "_model_module": "@jupyter-widgets/controls",
       "_model_module_version": "1.5.0",
       "_model_name": "VBoxModel",
       "_view_count": null,
       "_view_module": "@jupyter-widgets/controls",
       "_view_module_version": "1.5.0",
       "_view_name": "VBoxView",
       "box_style": "",
       "children": [
        "IPY_MODEL_d2f72b96fb4440cba9fd189b854502c3",
        "IPY_MODEL_7c941fa241544ee392fb92d05cfd14c7"
       ],
       "layout": "IPY_MODEL_e8a74f23c23d4d22912281a8d722683b"
      }
     },
     "698728d9d3fe4a6bab877371aedb2dc7": {
      "model_module": "@jupyter-widgets/base",
      "model_module_version": "1.2.0",
      "model_name": "LayoutModel",
      "state": {
       "_model_module": "@jupyter-widgets/base",
       "_model_module_version": "1.2.0",
       "_model_name": "LayoutModel",
       "_view_count": null,
       "_view_module": "@jupyter-widgets/base",
       "_view_module_version": "1.2.0",
       "_view_name": "LayoutView",
       "align_content": null,
       "align_items": null,
       "align_self": null,
       "border": null,
       "bottom": null,
       "display": null,
       "flex": null,
       "flex_flow": null,
       "grid_area": null,
       "grid_auto_columns": null,
       "grid_auto_flow": null,
       "grid_auto_rows": null,
       "grid_column": null,
       "grid_gap": null,
       "grid_row": null,
       "grid_template_areas": null,
       "grid_template_columns": null,
       "grid_template_rows": null,
       "height": null,
       "justify_content": null,
       "justify_items": null,
       "left": null,
       "margin": null,
       "max_height": null,
       "max_width": null,
       "min_height": null,
       "min_width": null,
       "object_fit": null,
       "object_position": null,
       "order": null,
       "overflow": null,
       "overflow_x": null,
       "overflow_y": null,
       "padding": null,
       "right": null,
       "top": null,
       "visibility": null,
       "width": null
      }
     },
     "769a5192790449da94c800a5f74b91f8": {
      "model_module": "@jupyter-widgets/controls",
      "model_module_version": "1.5.0",
      "model_name": "SliderStyleModel",
      "state": {
       "_model_module": "@jupyter-widgets/controls",
       "_model_module_version": "1.5.0",
       "_model_name": "SliderStyleModel",
       "_view_count": null,
       "_view_module": "@jupyter-widgets/base",
       "_view_module_version": "1.2.0",
       "_view_name": "StyleView",
       "description_width": "",
       "handle_color": null
      }
     },
     "7c941fa241544ee392fb92d05cfd14c7": {
      "model_module": "@jupyter-widgets/output",
      "model_module_version": "1.0.0",
      "model_name": "OutputModel",
      "state": {
       "_dom_classes": [],
       "_model_module": "@jupyter-widgets/output",
       "_model_module_version": "1.0.0",
       "_model_name": "OutputModel",
       "_view_count": null,
       "_view_module": "@jupyter-widgets/output",
       "_view_module_version": "1.0.0",
       "_view_name": "OutputView",
       "layout": "IPY_MODEL_c34088f0fd59402f96561c727fe16cc4",
       "msg_id": "",
       "outputs": [
        {
         "data": {
          "image/png": "iVBORw0KGgoAAAANSUhEUgAAAY0AAADeCAYAAADBylw8AAAAOXRFWHRTb2Z0d2FyZQBNYXRwbG90bGliIHZlcnNpb24zLjcuMywgaHR0cHM6Ly9tYXRwbG90bGliLm9yZy/OQEPoAAAACXBIWXMAAA9hAAAPYQGoP6dpAAAZ2ElEQVR4nO3dbXBU5fnH8R/ybEISERKgEJA4iBBCxWJUQOTJgmkrhsDQTlOmnekgDxYai8wwpYbaMWooxtLCSBlfQNvQQqUFQ63RlPIQjDJIEkuldgGTFKSiJmEjQkL4v3A2f1Puaz0bdpMFv5+ZvujvnD33vdmQy7N77X13qq2tvSQAADy4rqMnAAC4elA0AACeUTQAAJ5RNAAAnlE0AACeUTQAAJ5RNAAAnlE0AACeUTQAAJ5RNAAAnrVb0Th06JBmz56t5ORkDRgwQFOnTtX27dvba3gAQBh0aY9B9uzZo1mzZqlHjx7KzMxUbGysduzYoe9+97uqqanRww8/3B7TAABcoU6RXrCwqalJY8eO1cmTJ1VcXKy0tDRJUl1dnaZMmaKqqiodPHhQycnJkZwGACAMIv721J49e3T8+HFlZWW1FAxJio+PV05Oji5cuKDCwsJITwMAEAYRLxr79u2TJE2ePPmyY1OmTJEk7d+/P9LTAACEQcQ/0/D5fJKklJSUy44lJSUpNjZWx44dC3qNr33ta6qtrY3E9ADgCyshIUEvvvhiSI+JeNGor6+XJMXFxTmP9+rVq+UcS21trT766KOwzw0AEBq+pwEA8CziRSNwh2HdTZw9e9a8CwEARJeIF43AZxmBzzY+6/Tp0/L7/Ro6dGikpwEACIOIF41x48ZJkkpKSi479uqrr7Y6BwAQ3SJeNCZOnKghQ4Zo27ZtqqioaMnr6uq0Zs0adevWTXPnzo30NAAAYRDx7qkuXbroF7/4hWbNmqWMjIxWy4hUV1fr8ccf1+DBgyM9DQBAGLTL2lP33HOPXnrpJeXl5Wn79u1qbGzUiBEjtGrVKmVmZrbHFAAAYdAuRUOSbr/9dm3btq29hgMARADf0wAAeEbRAAB4RtEAAHhG0QAAeEbRAAB4RtEAAHhG0QAAeNZu39MAEHmXLl0K6fxOnTpFfOxgc7KOde3aNaS8ubk55LEvXrzozLt0cf9ZvO46939jNzY2hjSnqx13GgAAzygaAADPKBoAAM8oGgAAzygaAADP6J7CFUtLS3PmTz/9tDPv3LmzM3/kkUec+Wc378KnwtX11JbuIktTU5MzDzZXqxuqe/fuztzqbHJtJy1JiYmJ5tgzZ8505hkZGc78woULzvxPf/qTM3ftVvp51wr1dbU6uiKJOw0AgGcUDQCAZxQNAIBnFA0AgGcUDQCAZ3RPwZP77rvPPGZ1oVisrpyHHnrImRcXF5vX2rFjR0hjXCtCXWOqLdcJtZOnV69eztzqFAo2hjWvuro6Zz5o0CBnPnbsWHPsCRMmhHStwYMHO/MBAwY482A/v1deecWZW7+30bSOFXcaAADPKBoAAM8oGgAAzygaAADPKBoAAM/onkIrVpfU1KlTzccMHTo0LGNb15k/f775mNLSUmd++vTpsMwpWoXa2WSdH2ztIquDKS4uzpn7/X5nHqx7yuoKOnPmTEhjT5s2zZlPnz7dHDslJcWZf/zxx8785MmTzjw+Pt6ZB/s3c/ToUWdeU1PjzK11vToCdxoAAM8oGgAAzygaAADPKBoAAM8oGgAAz+ieukbExsY6c6sjadmyZc48ISHBmVs7rAVTVVXlzK2OnYEDB4Y8BloLdSe3YF053bp1c+ZWN1RDQ4Mzj4mJMcdITk525l/60pec+aRJk5z5qFGjnPmQIUPMsa0uqfLycmdu7Rr4la98xZn37t3bHNvquDpy5Igzv/76681rtTfuNAAAnlE0AACeUTQAAJ5RNAAAnlE0AACeUTQAAJ7RcnsVGTdunHlsxowZztxqB2wPW7dudebW4nk5OTmRnE7UCrb4YLi2dbXaZINtI2q1eX744YfOvG/fvs584sSJ5hh33nmnM7/11ltDyq1231OnTpljHz9+3JkfPnzYmVs/Q+s59O/f3xzbao0OtWW6I0T/DAEAUYOiAQDwjKIBAPCMogEA8IyiAQDwjO6pKDRlyhRnbi0y2BadO3d25hcvXgzbGKFuSfpFFa4OqbZcK1i3Tl1dnTO3uqruuOMOZz5r1ixzjMGDBzvz7t27O/N///vfzvzcuXPOPFgHk7VY4sGDB515fX29M//vf//rzHv27GmObXV7ffLJJyFfq71xpwEA8IyiAQDwLOSi8fvf/15Lly7Vvffeq8TERCUkJOi3v/2teX59fb1WrFih1NRUJSYmatSoUVq5cqX8fv8VTRwA0P5C/kzjZz/7maqrq3XjjTcqKSlJ1dXV5rkNDQ3KyMhQZWWlJk+erKysLFVUVGjt2rXav3+/du3apR49elzREwAAtJ+Q7zTWrl2riooK+Xw+fe973wt67rPPPqvKykotXbpUL7zwgnJzc/XCCy9o6dKlOnTokNatW9fmiQMA2l/Idxr33nuvp/MuXbqkzZs3KzY29rKun2XLlmnjxo3atGnTF3a9Icnuklq4cGHI17LWxfnoo4+cudUB06tXr7CNbW2nGU1bV16tQl27yOouCtbhdsMNNzjztLQ0Z/6DH/zAmScmJppjWFuoHjhwwJm///77ztz6t5SSkmKOfezYMWd+9OhRZ25tW2t1HAbbItl6ez7Ua1n/9qTIdS9G7INwn8+nU6dOKT09/bIfdkxMjNLT03XixAnV1NREagoAgDCLaNGQpKFDhzqPB/LAeQCA6BexohH4Ikx8fLzzeFxcXKvzAADRj+9pAAA8i1jRCNxJWEsRBO4wAucBAKJfxNaeCnQtWB0KgTxYd8O1wtpxL5xrSb399tvO/NFHH3Xm9913nzNvSzfb888/78z37dsX0ti4ctbaU1YnW58+fcxr3X333c58/vz5zjwhIcGZW2szSfY6Ty+//LIzHzlypDOvqqpy5u+++6459s6dO535O++848ytv1VWN2Cwdb2ampqcubX7ofV9tsbGRnOMSInYnUZKSor69++vsrKyyxbnamhoUFlZmQYPHqyBAwdGagoAgDCLWNHo1KmTsrOz5ff7lZ+f3+pYfn6+/H6/5s2bF6nhAQAREPLbU5s2bWr54s2RI0ckSZs3b255K+Kuu+7Sd77zHUnSkiVLtGvXLhUUFKiiokKjR49WeXm5SkpKNGbMGC1YsCBczwMA0A5CLhoHDhxQYWFhq+y1117Ta6+91vL/A0UjJiZGRUVFevLJJ7Vz507t3btXSUlJWrx4sZYvXx5Va8QDAD5fyEVj/fr1Wr9+vefz4+PjlZeXp7y8vFCHAgBEGb6nAQDwjO1ewyRYG2moCxBai5BZbbWS9Ktf/SqkMSzWsi7FxcXmY6zWRcvevXud+f333+/Mhw8fHtL1vwi6devmzK1WTqst1GqrlWQ2qlhtuhUVFc7c2qJVkn73u9858w8++MCZ9+vXz5lb7d3Hjx83xy4vL3fm1qKIVturtXVrsK13rXZcaxtma2HHYIsShnMb4c/iTgMA4BlFAwDgGUUDAOAZRQMA4BlFAwDgGd1TYfLtb3/bPGZ1XVj+98uTn5e3RWVlpTN/4403nLm1bWxbWFuPdsTia1crq3vK6uSxuo4yMjLMMUaPHu3M//KXvzjzN99805lb3XKS/XvYv39/Z/6vf/3Lmb/++uvO/JNPPjHHthZStH4/rRW7rW6rYOvqWa+fNba19S7dUwCAqEbRAAB4RtEAAHhG0QAAeEbRAAB4RvdUiKwtH9uyzPv06dOvdDptdurUqQ4b2xKsEwStWT+rpKQkZ37LLbc48zvvvNMco7m52Zm/8sorztzqhKqpqTHHsDoLu3bt6syrq6ududUlFRsba45tjWH9bK31os6ePevMrfWiJCkuLs6ZW91vH374oXmt9sadBgDAM4oGAMAzigYAwDOKBgDAM4oGAMAzuqcMQ4YMceaPPfaYM+/Vq1cEZ3NtsTrNgnWbfFFZnTxWt9Ctt97qzK01pqwd/SR7nSdrh7733nvPmQd7XW+88UZnbq2bZK3/ZO145/f7zbGt9Z+sa1ndZJZg3YDWGFaHltVV1ZauzSvFnQYAwDOKBgDAM4oGAMAzigYAwDOKBgDAM9pVDIsWLXLmiYmJ7TyTa8+ECROc+fDhw9t5JtHP6iI6f/68M09NTXXmVldVsO4in8/nzP/5z386c2sdqd69e5tjWJ1VVndYODuYrJ+hZcSIEc582LBhzjzYTpTWTpjdu3d35laXVKR25wuGOw0AgGcUDQCAZxQNAIBnFA0AgGcUDQCAZxQNAIBntNy2g1//+tcdPYUOMWjQIGf+/e9/P6TrWAvhSdKFCxdCuta1wmpVtVprrYUJrdZPSfrPf/7jzD/++GNnbm2tai3CF4z1GGuLVktTU5N57Ny5c848LS3NmS9cuNCZDxgwwJn/8Y9/NMd+9913nfnFixedudU6TMstACCqUTQAAJ5RNAAAnlE0AACeUTQAAJ7RPdUO6uvrO3oKEWV1Sf30pz915tbWuLW1tc581apV5tjBun+uZdZieNbPNi4uzpl/8MEH5hjWFqMDBw505lbHU7BFBq1jVldcqNuhxsfHm2NPmzbNmX/zm9905mPHjnXmZWVlzvzPf/6zObbFev2snxPdUwCAqEbRAAB4RtEAAHhG0QAAeEbRAAB4RveUIdg2kaF65JFHnHlxcXHYxggXa1vJRx991HzMXXfdFdIY1lpSK1eudObV1dUhXf9aYv0eWh15VVVVztzaBtbaXlSSbr/9dme+b98+Z26tp3TmzBlzDOt5WOtYWes8Wc8vIyPDHNv6vU1ISHDmf//73535888/78yPHTtmjm39O7O2ubUEW9crUp1V3GkAADyjaAAAPAupaJw8eVLr1q3Tgw8+qNTUVPXt21fDhg1Tdna2Dh486HxMfX29VqxYodTUVCUmJmrUqFFauXKl/H5/WJ4AAKD9hPSZxoYNG1RQUKCbbrpJkyZNUp8+feTz+VRUVKSioiJt3LhRmZmZLec3NDQoIyNDlZWVmjx5srKyslRRUaG1a9dq//792rVrl3r06BH2JwUAiIyQisaYMWP04osvavz48a3y0tJSPfDAA8rJyVFGRkbLh2vPPvusKisrtXTpUuXm5racn5ubq4KCAq1bt045OTlX/iwAAO2iU21tbVg+Ys/MzFRJSYn+9re/6bbbbtOlS5c0YsQInT17VkePHlVMTEzLuQ0NDbrlllvUp08fHT58+HOvPX78+HZfY+i2225z5j/+8Y+d+Wefn1dvvfWWM7e6HkpLS81r1dTUOPM5c+Y4c6srx9oRbvjw4ebY1jpBhYWFztzqvvkid0lZrNfJ6rKZOHGiM1+wYIEz79u3rzl2UlKSMz906JAzt96ittbJkqTz5887c2sNps6dOzvzUaNGOfORI0eaY7///vvO/K9//aszLykpceY+n8+ZB+teso5ZPyvr3+WVdnnecMMN5r9HS9g+CA9swxh4UX0+n06dOqX09PTL/qDGxMQoPT1dJ06cMP/YAQCiT1iKRnV1tXbv3q1+/fq1VPZA9R06dKjzMYHcqtIAgOhzxUWjsbFR8+fP1/nz55Wbm9typxH40o61NHFgqeZrfdlwALiWXFHRaG5u1sKFC1VaWqp58+Zp7ty54ZoXACAKtbloNDc3a9GiRdq6davmzJmjZ555ptXxwJ1EXV2d8/GBOwxrcxgAQPRp09pTgTuMLVu2KCsrS+vXr79sDZSUlBRJ9vorgTxwXrR58803nbm1i9xjjz1mXsvqrLLWy7FYHSLtoaKiwjxmraEVjWtrXSusLiJrFznr/KysLHMMa/0n6/ewd+/ezvzixYvmGNZ/NFprKlnPw9rZzlovSrK7pKwuMKtjrS276lk/k27duoV8rfYW8p3GZwtGZmamnnvuOecLmZKSov79+6usrOyyrRgbGhpUVlamwYMHm1tHAgCiT0hFI/CW1JYtWzRz5kxt2LDBrPydOnVSdna2/H6/8vPzWx3Lz8+X3+/XvHnz2j5zAEC7C+ntqaeeekqFhYWKjY3VzTfffFkxkD5dijgtLU2StGTJEu3atUsFBQWqqKjQ6NGjVV5erpKSEo0ZM8b8whEAIDqFVDQCa/X7/X6tXr3aeU5ycnJL0YiJiVFRUZGefPJJ7dy5U3v37lVSUpIWL16s5cuXm2vKAwCiU0hFY/369Vq/fn1IA8THxysvL095eXkhPQ4AEH3YTwMA4FnYFiyMpI5YsDBUffr0MY/df//9zvxb3/pWpKbzuWpra515ZWWlMy8oKDCv9b/dcQifUBeks1o2rRbPm2++2bzW17/+dWc+bdo0Z261np47d84cw5rv9ddf78xPnjzpzA8cOODMX375ZXPsf/zjH87cWoDT2hrXepvduk4w1sKEwdqWr0SHLlgIALj2UTQAAJ5RNAAAnlE0AACeUTQAAJ61acFCXO7MmTPmsU2bNjnz9957z5nPnj3bmQ8aNMgcI/DFy/+1detWZ251oVgdJegY1kJ11vI9gR00/5e1jai1OJ8kvfPOO87c+h2ZMWOGMw/WWXjixAlnXl5e7sz379/vzK25WosMSnbXk7XVrPVaWFvWWq9RMNYYVhddRyxkyJ0GAMAzigYAwDOKBgDAM4oGAMAzigYAwDPWngKuQqFuh2rl1lpH0qdbILhYayqFOidJampqCukxVseT9TysOUn2WlnWOk9WB5rVwdSWzqZQu6SutHuKtacAABFF0QAAeEbRAAB4RtEAAHhG0QAAeMbaU8BVyOr8sXKr8ycYqzMnWEeSS7Bd50Lt9rKeh9WFFakd7yKlI9aSChV3GgAAzygaAADPKBoAAM8oGgAAzygaAADPKBoAAM9ouQXgZC2eF2yRw3CJ1AJ9uHLcaQAAPKNoAAA8o2gAADyjaAAAPKNoAAA8o2gAADyjaAAAPKNoAAA8uyq+3JeQkNDRUwCAa05b/rZ2qq2t5SuWAABPeHsKAOAZRQMA4BlFAwDgGUUDAOAZRQMA4BlFAwDgGUUDAOBZ1BeNQ4cOafbs2UpOTtaAAQM0depUbd++vaOnhTY6efKk1q1bpwcffFCpqanq27evhg0bpuzsbB08eND5mPr6eq1YsUKpqalKTEzUqFGjtHLlSvn9/naePcKloKBACQkJSkhI0BtvvHHZcV7z6BXVX+7bs2ePZs2apR49eigzM1OxsbHasWOHqqur9fjjj+vhhx/u6CkiRLm5uSooKNBNN92k8ePHq0+fPvL5fCoqKtKlS5e0ceNGZWZmtpzf0NCg6dOnq7KyUpMnT1ZaWpoqKipUUlKiMWPGaNeuXerRo0cHPiOE6siRI5o0aZK6dOmihoYGFRcXa+zYsS3Hec2jW9QWjaamJo0dO1YnT55UcXGx0tLSJEl1dXWaMmWKqqqqdPDgQSUnJ3fwTBGKHTt2qHfv3ho/fnyrvLS0VA888IBiYmJ09OhRde/eXZL0xBNP6Omnn9bSpUuVm5vbcn6g+PzkJz9RTk5Oez4FXIHGxkZNnTpVXbt21dChQ/WHP/zhsqLBax7dovbtqT179uj48ePKyspqKRiSFB8fr5ycHF24cEGFhYUdOEO0xTe+8Y3LCoYk3X333ZowYYJqa2t15MgRSdKlS5e0efNmxcbGatmyZa3OX7ZsmWJjY7Vp06Z2mTfCY/Xq1Xr77bf1y1/+Up07d77sOK959IvaorFv3z5J0uTJky87NmXKFEnS/v3723VOiKyuXbtKUssfE5/Pp1OnTik9PV0xMTGtzo2JiVF6erpOnDihmpqadp8rQnf48GH9/Oc/1/LlyzV8+HDnObzm0S9qi4bP55MkpaSkXHYsKSlJsbGxOnbsWHtPCxFSXV2t3bt3q1+/fho5cqSk//8dGDp0qPMxgTxwHqLX+fPntWDBAo0aNUpLliwxz+M1j35RuzR6fX29JCkuLs55vFevXi3n4OrW2Nio+fPn6/z588rNzW250wi8vvHx8c7HBX43+D2Ifk888YR8Pp92797tfFsqgNc8+kXtnQa+GJqbm7Vw4UKVlpZq3rx5mjt3bkdPCWH2+uuva+3atfrRj36kESNGdPR0cIWitmh83n9RnD171rwLwdWhublZixYt0tatWzVnzhw988wzrY4HXt+6ujrn4z/vbhQdr6mpSQsWLNDIkSP1wx/+8HPP5zWPflH79lTgswyfz6cvf/nLrY6dPn1afr9fY8aM6YCZIRwCdxhbtmxRVlaW1q9fr+uua/3fMIHfAeuzq0Du+twL0cHv97d8/tC3b1/nOdOmTZMk/eY3v2n5gJzXPHpFbdEYN26c1qxZo5KSEs2aNavVsVdffbXlHFx9PlswMjMz9dxzzznf505JSVH//v1VVlamhoaGVt00DQ0NKisr0+DBgzVw4MD2nD5C0L17d2VnZzuPlZaWyufzacaMGerTp4+Sk5N5za8CUfv21MSJEzVkyBBt27ZNFRUVLXldXZ3WrFmjbt268f73VSjwltSWLVs0c+ZMbdiwwfxgtFOnTsrOzpbf71d+fn6rY/n5+fL7/Zo3b157TBtt1LNnT61du9b5vzvuuEOSlJOTo7Vr1yotLY3X/CoQtd8Il1hG5FqUl5enp556SrGxsXrooYecBSMjI6PlC50NDQ366le/qrfeekuTJ0/W6NGjVV5e3rKkRFFRkXr27NneTwNhsGDBAhUWFjqXEeE1j15R+/aUJN1zzz166aWXlJeXp+3bt6uxsVEjRozQqlWrWq1PhKtHVVWVpE/f6169erXznOTk5JaiERMTo6KiIj355JPauXOn9u7dq6SkJC1evFjLly/nj8c1iNc8ukX1nQYAILpE7WcaAIDoQ9EAAHhG0QAAeEbRAAB4RtEAAHhG0QAAeEbRAAB4RtEAAHhG0QAAeEbRAAB4RtEAAHhG0QAAeEbRAAB49n+/VoPPeQB7+QAAAABJRU5ErkJggg==",
          "text/plain": "<Figure size 400x400 with 1 Axes>"
         },
         "metadata": {},
         "output_type": "display_data"
        }
       ]
      }
     },
     "9dad4daf3f08448a8d7777e5e5eaac45": {
      "model_module": "@jupyter-widgets/base",
      "model_module_version": "1.2.0",
      "model_name": "LayoutModel",
      "state": {
       "_model_module": "@jupyter-widgets/base",
       "_model_module_version": "1.2.0",
       "_model_name": "LayoutModel",
       "_view_count": null,
       "_view_module": "@jupyter-widgets/base",
       "_view_module_version": "1.2.0",
       "_view_name": "LayoutView",
       "align_content": null,
       "align_items": null,
       "align_self": null,
       "border": null,
       "bottom": null,
       "display": null,
       "flex": null,
       "flex_flow": null,
       "grid_area": null,
       "grid_auto_columns": null,
       "grid_auto_flow": null,
       "grid_auto_rows": null,
       "grid_column": null,
       "grid_gap": null,
       "grid_row": null,
       "grid_template_areas": null,
       "grid_template_columns": null,
       "grid_template_rows": null,
       "height": null,
       "justify_content": null,
       "justify_items": null,
       "left": null,
       "margin": null,
       "max_height": null,
       "max_width": null,
       "min_height": null,
       "min_width": null,
       "object_fit": null,
       "object_position": null,
       "order": null,
       "overflow": null,
       "overflow_x": null,
       "overflow_y": null,
       "padding": null,
       "right": null,
       "top": null,
       "visibility": null,
       "width": null
      }
     },
     "b16e855b2f8b444982134441d2eccfc0": {
      "model_module": "@jupyter-widgets/output",
      "model_module_version": "1.0.0",
      "model_name": "OutputModel",
      "state": {
       "_dom_classes": [],
       "_model_module": "@jupyter-widgets/output",
       "_model_module_version": "1.0.0",
       "_model_name": "OutputModel",
       "_view_count": null,
       "_view_module": "@jupyter-widgets/output",
       "_view_module_version": "1.0.0",
       "_view_name": "OutputView",
       "layout": "IPY_MODEL_f0fd42708a5546ae8b177c973011c8b8",
       "msg_id": "",
       "outputs": [
        {
         "data": {
          "image/png": "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",
          "text/plain": "<Figure size 2000x2000 with 1 Axes>"
         },
         "metadata": {},
         "output_type": "display_data"
        }
       ]
      }
     },
     "b98f82c2bf954165bb838dcc555a2bc0": {
      "model_module": "@jupyter-widgets/base",
      "model_module_version": "1.2.0",
      "model_name": "LayoutModel",
      "state": {
       "_model_module": "@jupyter-widgets/base",
       "_model_module_version": "1.2.0",
       "_model_name": "LayoutModel",
       "_view_count": null,
       "_view_module": "@jupyter-widgets/base",
       "_view_module_version": "1.2.0",
       "_view_name": "LayoutView",
       "align_content": null,
       "align_items": null,
       "align_self": null,
       "border": null,
       "bottom": null,
       "display": null,
       "flex": null,
       "flex_flow": null,
       "grid_area": null,
       "grid_auto_columns": null,
       "grid_auto_flow": null,
       "grid_auto_rows": null,
       "grid_column": null,
       "grid_gap": null,
       "grid_row": null,
       "grid_template_areas": null,
       "grid_template_columns": null,
       "grid_template_rows": null,
       "height": null,
       "justify_content": null,
       "justify_items": null,
       "left": null,
       "margin": null,
       "max_height": null,
       "max_width": null,
       "min_height": null,
       "min_width": null,
       "object_fit": null,
       "object_position": null,
       "order": null,
       "overflow": null,
       "overflow_x": null,
       "overflow_y": null,
       "padding": null,
       "right": null,
       "top": null,
       "visibility": null,
       "width": null
      }
     },
     "bc184397fa424eb79f6750213450083d": {
      "model_module": "@jupyter-widgets/controls",
      "model_module_version": "1.5.0",
      "model_name": "IntSliderModel",
      "state": {
       "_dom_classes": [],
       "_model_module": "@jupyter-widgets/controls",
       "_model_module_version": "1.5.0",
       "_model_name": "IntSliderModel",
       "_view_count": null,
       "_view_module": "@jupyter-widgets/controls",
       "_view_module_version": "1.5.0",
       "_view_name": "IntSliderView",
       "continuous_update": true,
       "description": "image_idx",
       "description_tooltip": null,
       "disabled": false,
       "layout": "IPY_MODEL_b98f82c2bf954165bb838dcc555a2bc0",
       "max": 1000,
       "min": 0,
       "orientation": "horizontal",
       "readout": true,
       "readout_format": "d",
       "step": 1,
       "style": "IPY_MODEL_e19f93dae312410ba3e796d04c43303c",
       "value": 500
      }
     },
     "c34088f0fd59402f96561c727fe16cc4": {
      "model_module": "@jupyter-widgets/base",
      "model_module_version": "1.2.0",
      "model_name": "LayoutModel",
      "state": {
       "_model_module": "@jupyter-widgets/base",
       "_model_module_version": "1.2.0",
       "_model_name": "LayoutModel",
       "_view_count": null,
       "_view_module": "@jupyter-widgets/base",
       "_view_module_version": "1.2.0",
       "_view_name": "LayoutView",
       "align_content": null,
       "align_items": null,
       "align_self": null,
       "border": null,
       "bottom": null,
       "display": null,
       "flex": null,
       "flex_flow": null,
       "grid_area": null,
       "grid_auto_columns": null,
       "grid_auto_flow": null,
       "grid_auto_rows": null,
       "grid_column": null,
       "grid_gap": null,
       "grid_row": null,
       "grid_template_areas": null,
       "grid_template_columns": null,
       "grid_template_rows": null,
       "height": null,
       "justify_content": null,
       "justify_items": null,
       "left": null,
       "margin": null,
       "max_height": null,
       "max_width": null,
       "min_height": null,
       "min_width": null,
       "object_fit": null,
       "object_position": null,
       "order": null,
       "overflow": null,
       "overflow_x": null,
       "overflow_y": null,
       "padding": null,
       "right": null,
       "top": null,
       "visibility": null,
       "width": null
      }
     },
     "d2f72b96fb4440cba9fd189b854502c3": {
      "model_module": "@jupyter-widgets/controls",
      "model_module_version": "1.5.0",
      "model_name": "IntSliderModel",
      "state": {
       "_dom_classes": [],
       "_model_module": "@jupyter-widgets/controls",
       "_model_module_version": "1.5.0",
       "_model_name": "IntSliderModel",
       "_view_count": null,
       "_view_module": "@jupyter-widgets/controls",
       "_view_module_version": "1.5.0",
       "_view_name": "IntSliderView",
       "continuous_update": true,
       "description": "i",
       "description_tooltip": null,
       "disabled": false,
       "layout": "IPY_MODEL_9dad4daf3f08448a8d7777e5e5eaac45",
       "max": 10,
       "min": 0,
       "orientation": "horizontal",
       "readout": true,
       "readout_format": "d",
       "step": 1,
       "style": "IPY_MODEL_769a5192790449da94c800a5f74b91f8",
       "value": 1
      }
     },
     "e19f93dae312410ba3e796d04c43303c": {
      "model_module": "@jupyter-widgets/controls",
      "model_module_version": "1.5.0",
      "model_name": "SliderStyleModel",
      "state": {
       "_model_module": "@jupyter-widgets/controls",
       "_model_module_version": "1.5.0",
       "_model_name": "SliderStyleModel",
       "_view_count": null,
       "_view_module": "@jupyter-widgets/base",
       "_view_module_version": "1.2.0",
       "_view_name": "StyleView",
       "description_width": "",
       "handle_color": null
      }
     },
     "e39e4b055cd4424ba6f1d4010967a529": {
      "model_module": "@jupyter-widgets/controls",
      "model_module_version": "1.5.0",
      "model_name": "VBoxModel",
      "state": {
       "_dom_classes": [
        "widget-interact"
       ],
       "_model_module": "@jupyter-widgets/controls",
       "_model_module_version": "1.5.0",
       "_model_name": "VBoxModel",
       "_view_count": null,
       "_view_module": "@jupyter-widgets/controls",
       "_view_module_version": "1.5.0",
       "_view_name": "VBoxView",
       "box_style": "",
       "children": [
        "IPY_MODEL_bc184397fa424eb79f6750213450083d",
        "IPY_MODEL_b16e855b2f8b444982134441d2eccfc0"
       ],
       "layout": "IPY_MODEL_698728d9d3fe4a6bab877371aedb2dc7"
      }
     },
     "e8a74f23c23d4d22912281a8d722683b": {
      "model_module": "@jupyter-widgets/base",
      "model_module_version": "1.2.0",
      "model_name": "LayoutModel",
      "state": {
       "_model_module": "@jupyter-widgets/base",
       "_model_module_version": "1.2.0",
       "_model_name": "LayoutModel",
       "_view_count": null,
       "_view_module": "@jupyter-widgets/base",
       "_view_module_version": "1.2.0",
       "_view_name": "LayoutView",
       "align_content": null,
       "align_items": null,
       "align_self": null,
       "border": null,
       "bottom": null,
       "display": null,
       "flex": null,
       "flex_flow": null,
       "grid_area": null,
       "grid_auto_columns": null,
       "grid_auto_flow": null,
       "grid_auto_rows": null,
       "grid_column": null,
       "grid_gap": null,
       "grid_row": null,
       "grid_template_areas": null,
       "grid_template_columns": null,
       "grid_template_rows": null,
       "height": null,
       "justify_content": null,
       "justify_items": null,
       "left": null,
       "margin": null,
       "max_height": null,
       "max_width": null,
       "min_height": null,
       "min_width": null,
       "object_fit": null,
       "object_position": null,
       "order": null,
       "overflow": null,
       "overflow_x": null,
       "overflow_y": null,
       "padding": null,
       "right": null,
       "top": null,
       "visibility": null,
       "width": null
      }
     },
     "f0fd42708a5546ae8b177c973011c8b8": {
      "model_module": "@jupyter-widgets/base",
      "model_module_version": "1.2.0",
      "model_name": "LayoutModel",
      "state": {
       "_model_module": "@jupyter-widgets/base",
       "_model_module_version": "1.2.0",
       "_model_name": "LayoutModel",
       "_view_count": null,
       "_view_module": "@jupyter-widgets/base",
       "_view_module_version": "1.2.0",
       "_view_name": "LayoutView",
       "align_content": null,
       "align_items": null,
       "align_self": null,
       "border": null,
       "bottom": null,
       "display": null,
       "flex": null,
       "flex_flow": null,
       "grid_area": null,
       "grid_auto_columns": null,
       "grid_auto_flow": null,
       "grid_auto_rows": null,
       "grid_column": null,
       "grid_gap": null,
       "grid_row": null,
       "grid_template_areas": null,
       "grid_template_columns": null,
       "grid_template_rows": null,
       "height": null,
       "justify_content": null,
       "justify_items": null,
       "left": null,
       "margin": null,
       "max_height": null,
       "max_width": null,
       "min_height": null,
       "min_width": null,
       "object_fit": null,
       "object_position": null,
       "order": null,
       "overflow": null,
       "overflow_x": null,
       "overflow_y": null,
       "padding": null,
       "right": null,
       "top": null,
       "visibility": null,
       "width": null
      }
     }
    },
    "version_major": 2,
    "version_minor": 0
   }
  }
 },
 "nbformat": 4,
 "nbformat_minor": 5
}
